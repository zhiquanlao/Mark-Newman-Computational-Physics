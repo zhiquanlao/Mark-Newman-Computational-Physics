{
  "nbformat": 4,
  "nbformat_minor": 0,
  "metadata": {
    "colab": {
      "provenance": []
    },
    "kernelspec": {
      "name": "python3",
      "display_name": "Python 3"
    },
    "language_info": {
      "name": "python"
    }
  },
  "cells": [
    {
      "cell_type": "markdown",
      "source": [
        "Q1b)"
      ],
      "metadata": {
        "id": "y9s12x5FBwsJ"
      }
    },
    {
      "cell_type": "code",
      "execution_count": null,
      "metadata": {
        "id": "E0C7yWUwkTVf",
        "colab": {
          "base_uri": "https://localhost:8080/"
        },
        "outputId": "29277931-a22a-4cfc-c6d3-377bda7c9933"
      },
      "outputs": [
        {
          "output_type": "stream",
          "name": "stdout",
          "text": [
            "Q: array([[ 0.10153462,  0.558463  ,  0.80981107,  0.1483773 ],\n",
            "       [ 0.40613847, -0.10686638, -0.14147555,  0.8964462 ],\n",
            "       [ 0.81227693, -0.38092692,  0.22995024, -0.37712564],\n",
            "       [ 0.40613847,  0.72910447, -0.5208777 , -0.17928924]])\n",
            "R: array([[ 9.8488578 ,  6.49821546, 10.55960012, 11.37187705],\n",
            "       [ 0.        ,  5.98106979,  8.4234836 , -0.484346  ],\n",
            "       [ 0.        ,  0.        ,  2.74586406,  3.27671222],\n",
            "       [ 0.        ,  0.        ,  0.        ,  3.11592335]])\n",
            "A: array([[1., 4., 8., 4.],\n",
            "       [4., 2., 3., 7.],\n",
            "       [8., 3., 6., 9.],\n",
            "       [4., 7., 9., 2.]])\n"
          ]
        }
      ],
      "source": [
        "import numpy as np\n",
        "from matplotlib import pyplot as plt\n",
        "from pprint import pprint\n",
        "import math\n",
        "def QR_decomposed(A):\n",
        "  a=A.T\n",
        "  u=np.zeros(np.shape(a))\n",
        "  q=np.zeros(np.shape(a))\n",
        "  u[0]=a[0]\n",
        "  q[0]=u[0]/math.sqrt(np.dot(u[0],u[0]))\n",
        "  for i in range(1,len(a)):\n",
        "    u[i]=a[i]\n",
        "    for j in range(i):\n",
        "      #print(q[j])\n",
        "      #print(a[i])\n",
        "      u[i]-=np.dot(q[j],a[i])*q[j]\n",
        "    q[i]=u[i]/math.sqrt(np.dot(u[i],u[i]))\n",
        "  r=np.zeros(np.shape(A))\n",
        "  for i in range(0,len(r)):\n",
        "    for j in range(i,len(r[i])):\n",
        "      if j==i:\n",
        "        r[i][j]=math.sqrt(np.dot(u[i],u[i]))\n",
        "      else:\n",
        "        r[i][j]=np.dot(q[i],a[j])\n",
        "  return q.T,r\n",
        "A_1_b=np.array([[1,4,8,4],[4,2,3,7],[8,3,6,9],[4,7,9,2]])\n",
        "q_1_b,r_1_b=QR_decomposed(A_1_b)\n",
        "print('Q: ',end='')\n",
        "pprint(q_1_b)\n",
        "print(\"R: \",end='')\n",
        "pprint(r_1_b)\n",
        "print(\"A: \",end='')\n",
        "pprint(q_1_b@r_1_b)"
      ]
    },
    {
      "cell_type": "markdown",
      "source": [
        "Q1c"
      ],
      "metadata": {
        "id": "yGljipZ-M2N6"
      }
    },
    {
      "cell_type": "code",
      "source": [
        "def check_non_diagonal(A,err=1e-6):\n",
        "    for i in range(len(A)):\n",
        "      for j in range(len(A[i])):\n",
        "        if i!=j and A[i][j]>err:\n",
        "          return False\n",
        "    return True\n",
        "def eigen(A,err=1e-6):\n",
        "  a=A.copy()\n",
        "  v=np.eye(len(a))\n",
        "  while check_non_diagonal(a,err)!=True:\n",
        "    q,r=QR_decomposed(a)\n",
        "    v=v@q\n",
        "    a=r@q\n",
        "  return v,a\n",
        "v,d=eigen(A_1_b)\n",
        "pprint(v)\n",
        "pprint(d)"
      ],
      "metadata": {
        "id": "qZjsoqtFM3YP",
        "colab": {
          "base_uri": "https://localhost:8080/"
        },
        "outputId": "38a01e9a-15cc-4872-9a8f-a2df44f4cb76"
      },
      "execution_count": null,
      "outputs": [
        {
          "output_type": "stream",
          "name": "stdout",
          "text": [
            "array([[ 0.43151698, -0.38357064, -0.77459666, -0.25819889],\n",
            "       [ 0.38357063,  0.43151698, -0.2581989 ,  0.77459667],\n",
            "       [ 0.62330228,  0.52740965,  0.25819889, -0.51639778],\n",
            "       [ 0.52740965, -0.62330227,  0.51639779,  0.25819889]])\n",
            "array([[ 2.10000000e+01,  7.36067998e-07,  3.61411892e-14,\n",
            "        -2.53428712e-14],\n",
            "       [ 7.36067998e-07, -8.00000000e+00,  5.99038954e-08,\n",
            "         4.91834261e-15],\n",
            "       [ 1.76373367e-14,  5.99038974e-08, -3.00000000e+00,\n",
            "        -2.06493931e-08],\n",
            "       [ 5.69063112e-23,  9.58659066e-16, -2.06493983e-08,\n",
            "         1.00000000e+00]])\n"
          ]
        }
      ]
    },
    {
      "cell_type": "markdown",
      "source": [
        "2a)<br>\n",
        "$\\Sigma_{n=1}^{\\infty}\\psi_n\\int_0^Lsin\\frac{\\pi m x}{L}\\hat H sin\\frac{\\pi nx}{L}dx$<br>\n",
        "$=\\int_0^Lsin\\frac{\\pi mx}{L}\\hat H\\psi(x)dx$<br>\n",
        "$=E\\Sigma_{n=1}^{\\infty}\\int_0^Lsin\\frac{\\pi mx}{L}sin\\frac{\\pi nx}{L}\\psi_ndx$<br>\n",
        "$=\\frac{L}{2}E\\psi_m$<br>\n",
        "$H_{mn}=E\\psi_m\\delta_{mn}$ (no sum against repetive index) <br>\n",
        "$\\mathbf{H\\boldsymbol{\\psi}}=\\Sigma_{n=1}^{\\infty}E\\psi_m\\delta_{mn}\\psi_{n}$<br>\n",
        "$=\\Sigma_{n=1}^{\\infty}E\\psi_{m}$ <br>\n",
        "$=E\\boldsymbol{\\psi}$"
      ],
      "metadata": {
        "id": "Vw3sfmrMAPAZ"
      }
    },
    {
      "cell_type": "markdown",
      "source": [
        "2b) (Correction Needed)<br>\n",
        "$H_{mn}=\\frac{2}{L}\\int_0^Lsin\\frac{\\pi mx}{L}[-\\frac{\\hbar^2}{2M}\\frac{d^2}{dx^2}+\\frac{ax}{L}]sin\\frac{\\pi nx}{L}dx$<br>\n",
        "$=\\frac{2}{L}[\\frac{\\hbar^2}{2M}(\\frac{\\pi n}{L})^2\\int_0^Lsin\\frac{\\pi mx}{L}sin\\frac{\\pi nx}{L}dx+\\frac{a}{L}\\int_0^Lxsin\\frac{\\pi mx}{L}sin\\frac{\\pi nx}{L}dx$<br>\n",
        "$=\\frac{\\hbar^2\\pi^2n^2}{2ML^2}\\delta_{mn}+2a\\int_0^Lxsin\\frac{\\pi mx}{L}sin\\frac{\\pi nx}{L}dx$<br>\n",
        "$H_{mn}=-2a(\\frac{2L}{\\pi})^2\\frac{mn}{(m^2-n^2)^2}$ if $m\\neq n$ and one is even, one is odd<br>\n",
        "$H_{mn}=\\frac{\\hbar^2\\pi^2n^2}{2ML^2}+a\\frac{L^2}{2}$ if $m=n$<br>\n",
        "$H_{mn}=0$ otherwise"
      ],
      "metadata": {
        "id": "gtZMBhRDDMqb"
      }
    },
    {
      "cell_type": "code",
      "source": [
        "def H(m,n):\n",
        "  L=5e-10\n",
        "  M=9.1094e-31\n",
        "  a=10*1.6022e-19\n",
        "  hbar=1.055e-34\n",
        "  if m==n:\n",
        "    return hbar*hbar*(math.pi**2)*n*n/(2*M*L*L)+a*L*L/2\n",
        "  else:\n",
        "    if (m%2==0 and n%2==1) or (m%2==1 and n%2==0):\n",
        "      return -2*a*((2*L/math.pi)**2)*m*n/((m*m-n*n)*(m*m-n*n))\n",
        "    else:\n",
        "      return 0"
      ],
      "metadata": {
        "id": "WKiOlYkjlwdX"
      },
      "execution_count": null,
      "outputs": []
    },
    {
      "cell_type": "markdown",
      "source": [
        "Q2c) (Correction Needed)"
      ],
      "metadata": {
        "id": "xNfwmDPpnuGO"
      }
    },
    {
      "cell_type": "code",
      "source": [
        "H_2=np.zeros((10,10))\n",
        "for m in range(10):\n",
        "  for n in range(10):\n",
        "    H_2[m,n]=H(m+1,n+1)\n",
        "eign,v=np.linalg.eig(H_2)\n",
        "#pprint(H_2)\n",
        "eign/=1.6022e-19\n",
        "print(np.sort(eign))"
      ],
      "metadata": {
        "colab": {
          "base_uri": "https://localhost:8080/"
        },
        "id": "6TXXp6QmnwGK",
        "outputId": "541ed993-977e-4f8e-f395-a0996ae91681"
      },
      "execution_count": null,
      "outputs": [
        {
          "output_type": "stream",
          "name": "stdout",
          "text": [
            "[  1.50531767   6.02127069  13.54785905  24.08508276  37.63294181\n",
            "  54.1914362   73.76056595  96.34033103 121.93073146 150.53176724]\n"
          ]
        }
      ]
    },
    {
      "cell_type": "markdown",
      "source": [
        "2d)"
      ],
      "metadata": {
        "id": "ecq3xXN5BUq2"
      }
    },
    {
      "cell_type": "code",
      "source": [
        "H_2_d=np.zeros((100,100))\n",
        "for m in range(100):\n",
        "  for n in range (100):\n",
        "    H_2_d[m,n]=H(m+1,n+1)\n",
        "eign,v=np.linalg.eig(H_2_d)\n",
        "eign/=1.6022e-19\n",
        "print(np.sort(eign)[:10])\n",
        "print('the accuracy is high')"
      ],
      "metadata": {
        "colab": {
          "base_uri": "https://localhost:8080/"
        },
        "id": "2J2AKRxQBXww",
        "outputId": "f5028e35-829f-4318-b7db-33af7d59cde5"
      },
      "execution_count": null,
      "outputs": [
        {
          "output_type": "stream",
          "name": "stdout",
          "text": [
            "[  1.50531767   6.02127069  13.54785905  24.08508276  37.63294181\n",
            "  54.1914362   73.76056595  96.34033103 121.93073146 150.53176724]\n",
            "the accuracy is high\n"
          ]
        }
      ]
    },
    {
      "cell_type": "markdown",
      "source": [
        "2e)"
      ],
      "metadata": {
        "id": "mliFcWK2CGzb"
      }
    },
    {
      "cell_type": "code",
      "source": [
        "def legendre_root_w(n):\n",
        "  x=[]\n",
        "  for i in range(n):\n",
        "    x.append(math.cos(math.pi*(i-0.25)/(n+0.5)))\n",
        "  x=np.array(x)\n",
        "  epsilon=1e-15\n",
        "  delta=1\n",
        "  while delta>epsilon:\n",
        "    p0=np.ones(n,float)\n",
        "    p1=np.copy(x)\n",
        "    for i in range(1,n):\n",
        "      p0,p1=p1,((2*i+1)*p1*x-p0*i)/(i+1)\n",
        "    dp=(n+1)*(p0-x*p1)/(1-x*x)\n",
        "    dx=p1/dp\n",
        "    x=x-dx\n",
        "    delta=max(abs(dx))\n",
        "  w=2*(n+1)*(n+1)/(n*n*(1-x*x)*dp*dp)\n",
        "  return x,w\n",
        "def gauss_quad(func,n,low,up):\n",
        "  x,w=legendre_root_w(n)\n",
        "  #print(x)\n",
        "  #print(w)\n",
        "  x=0.5*(up-low)*x+0.5*(up+low)\n",
        "  w=0.5*(up-low)*w\n",
        "  ans=0\n",
        "  for i in range(n):\n",
        "    ans+=func(x[i])*w[i]\n",
        "    #print(i,ans,x[i],w[i])\n",
        "  return ans\n",
        "def psi(k,x):\n",
        "  re=np.argpartition(eign,k)\n",
        "  p=v[re[-1]]\n",
        "  #print(p)\n",
        "  ans=0\n",
        "  L=5e-10\n",
        "  for i in range(len(p)):\n",
        "    ans+=math.sin(math.pi*(i+1)*x/L)*p[i]\n",
        "  return ans\n",
        "def norm(k):\n",
        "  L=5e-10\n",
        "  def f_2(x):\n",
        "    return psi(k,x)*psi(k,x)\n",
        "  return gauss_quad(f_2,100,0,L)\n",
        "L=5e-10\n",
        "x_2=np.linspace(0,L,100)\n",
        "psi1=[]\n",
        "n1=norm(1)\n",
        "for i in x_2:\n",
        "  psi1.append((psi(1,i)**2)/n1)\n",
        "psi2=[]\n",
        "n2=norm(2)\n",
        "for i in x_2:\n",
        "  psi2.append((psi(2,i)**2)/n2)\n",
        "psi3=[]\n",
        "n3=norm(3)\n",
        "for i in x_2:\n",
        "  psi3.append((psi(3,i)**2)/n3)\n",
        "plt.plot(x_2,psi1)\n",
        "plt.plot(x_2,psi2)\n",
        "plt.plot(x_2,psi3)\n",
        "plt.legend(['ground','first excited','second excited'],loc='upper left')\n",
        "#print(psi1)\n",
        "#print(psi2)\n",
        "#print(psi3)"
      ],
      "metadata": {
        "colab": {
          "base_uri": "https://localhost:8080/",
          "height": 306
        },
        "id": "Vd4_PViPoYJT",
        "outputId": "71774e2e-2b10-4c5e-9338-d265de410e2d"
      },
      "execution_count": null,
      "outputs": [
        {
          "output_type": "execute_result",
          "data": {
            "text/plain": [
              "<matplotlib.legend.Legend at 0x7f7fc2f8f190>"
            ]
          },
          "metadata": {},
          "execution_count": 6
        },
        {
          "output_type": "display_data",
          "data": {
            "text/plain": [
              "<Figure size 432x288 with 1 Axes>"
            ],
            "image/png": "[encoded data removed]"
          },
          "metadata": {
            "needs_background": "light"
          }
        }
      ]
    },
    {
      "cell_type": "markdown",
      "source": [
        "3a)<br>\n",
        "$x'=(1+\\omega)f(x)-\\omega x$<br>\n",
        "$=(1+\\omega)[f(x^*)+(x-x^*)f'(x)]-\\omega x$    (for $x$ close to $x^*$)<br>\n",
        "$=x^*+\\omega x^*+(1+\\omega)(x-x^*)f'(x)-\\omega x$<br>\n",
        "$x'-x^*=(1+\\omega)(x-x^*)f'(x)-\\omega (x-x^*)$<br>\n",
        "$\\varepsilon'=\\varepsilon [(1+\\omega)f'(x)-\\omega]$<br>\n",
        "$x^*=x+\\varepsilon=x'+\\varepsilon'=x'+\\varepsilon [(1+\\omega)f'(x)-\\omega]$<br>\n",
        "$\\varepsilon'=\\frac{x-x'}{1-1/[(1+\\omega)f'(x)-\\omega]}$"
      ],
      "metadata": {
        "id": "ZRGdszQ2rNS1"
      }
    },
    {
      "cell_type": "markdown",
      "source": [
        "3b and c)"
      ],
      "metadata": {
        "id": "vPVsCxlkxmvJ"
      }
    },
    {
      "cell_type": "code",
      "source": [
        "def f_3_b(x):\n",
        "  c=2\n",
        "  return 1-math.exp(-1*c*x)\n",
        "def relax(func,x_begin,err=1e-6):\n",
        "  x=x_begin\n",
        "  ans=[x_begin]\n",
        "  error=999\n",
        "  while error>err:\n",
        "    x_p=func(x)\n",
        "    ans.append(x_p)\n",
        "    error=abs(x_p-x)\n",
        "    x=x_p\n",
        "  return ans\n",
        "def overrelax(func,x_begin,omega=0.5,err=1e-6):\n",
        "  x=x_begin\n",
        "  ans=[x_begin]\n",
        "  error=999\n",
        "  while error>err:\n",
        "    x_p=(1+omega)*func(x)-omega*x\n",
        "    ans.append(x_p)\n",
        "    error=abs(x_p-x)\n",
        "    x=x_p\n",
        "  return ans\n",
        "print('relax: '+str(relax(f_3_b,1)))\n",
        "print('overrelax: '+str(overrelax(f_3_b,1)))"
      ],
      "metadata": {
        "colab": {
          "base_uri": "https://localhost:8080/"
        },
        "id": "qQLk2ePtxsCH",
        "outputId": "bce49325-bf8e-4123-f0de-bec964e2fd77"
      },
      "execution_count": null,
      "outputs": [
        {
          "output_type": "stream",
          "name": "stdout",
          "text": [
            "relax: [1, 0.8646647167633873, 0.8225966691808597, 0.8070247503317746, 0.8009201942366403, 0.7984747083247583, 0.7974866394625985, 0.797086049491047, 0.796923413762181, 0.7968573480008734, 0.7968305046795713, 0.7968195968986895, 0.7968151643557075, 0.7968133630966887, 0.7968126311118457]\n",
            "overrelax: [1, 0.796997075145081, 0.7968323724281932, 0.7968143476015649, 0.7968123729832619, 0.7968121566399141]\n"
          ]
        }
      ]
    },
    {
      "cell_type": "markdown",
      "source": [
        "d) Yes. Sometimes $\\Delta x$ is too large.We use a negative $\\omega$ to reduce the overshoot of $x$.(i.e., Some times $x^*$ is between $x$ and $x+\\Delta x$. Using $x'=x+(1+\\omega)\\Delta x$ with negative $\\omega$ helps the algorithm to run faster."
      ],
      "metadata": {
        "id": "ZXMXQqbp0VKo"
      }
    },
    {
      "cell_type": "markdown",
      "source": [
        "4a)<br>\n",
        "Substitute $x=b, y=\\frac{b}{a+b^2}$ into the equations, <br>\n",
        "$-x+ay+x^2y=-b+\\frac{ab}{a+b^2}+\\frac{b^3}{a+b^2}=0$<br>\n",
        "$b-ay-x^2y=b-\\frac{ab}{a+b^2}-\\frac{b^3}{a+b^2}=0$"
      ],
      "metadata": {
        "id": "QX9McGoVJisc"
      }
    },
    {
      "cell_type": "markdown",
      "source": [
        "4b)<br>\n",
        "$-x+ay+x^2y=0$<br>\n",
        "$x=ay+x^2y=y(a+x^2)$,<br>\n",
        "$b-ay-x^2y=0$<br>\n",
        "$y=\\frac{b}{a+x^2}$"
      ],
      "metadata": {
        "id": "D9VpZj0KKV5V"
      }
    },
    {
      "cell_type": "code",
      "source": [
        "def x_4_b(x,y):\n",
        "  a=1\n",
        "  b=2\n",
        "  return y*(a+x*x)\n",
        "def y_4_b(x,y):\n",
        "  a=1\n",
        "  b=2\n",
        "  return b/(a+x*x)\n",
        "def relax_conv(func_x,func_y,x_begin,y_begin,err=1e-6):\n",
        "  x=x_begin\n",
        "  y=y_begin\n",
        "  ans_x=[x_begin]\n",
        "  ans_y=[y_begin]\n",
        "  error_x=999\n",
        "  error_y=999\n",
        "  loop=0\n",
        "  while error_x>err or error_y>err:\n",
        "    x_p=func_x(x,y)\n",
        "    y_p=func_y(x,y)\n",
        "    error_x=abs(x_p-x)\n",
        "    error_y=abs(y_p-y)\n",
        "    loop+=1\n",
        "    #print('x_p: '+str(x_p)+', y_p: '+str(y_p)+', loop: '+str(loop)+', error_x: '+str(error_x)+', error_y: '+str(error_y))\n",
        "    if loop>=100:\n",
        "      break\n",
        "    ans_x.append(x_p)\n",
        "    ans_y.append(y_p)\n",
        "    x=x_p\n",
        "    y=y_p\n",
        "  return ans_x, ans_y\n",
        "x_4,y_4=relax_conv(x_4_b,y_4_b,1,1)\n",
        "print('x: '+str(x_4))\n",
        "print('y: '+str(y_4))"
      ],
      "metadata": {
        "colab": {
          "base_uri": "https://localhost:8080/"
        },
        "id": "2gxxpCBULMTV",
        "outputId": "9532e425-4fcd-4ca0-f829-33488bd1eef4"
      },
      "execution_count": null,
      "outputs": [
        {
          "output_type": "stream",
          "name": "stdout",
          "text": [
            "x: [1, 2, 5.0, 10.4, 8.396923076923079, 1.310156049097899, 0.0759774241902131, 0.7404890733011719, 3.0788751163466825, 13.536535665652755, 35.161656645088655, 13.432011374622395, 0.2932397270847742, 0.011972174459708588, 1.8419023358662185, 8.783949400259472, 35.58607297317904, 32.431033721243125, 1.661350860079516, 0.007143212139370495, 0.5319297721101206, 2.5657676453894274, 11.821455008110393, 37.120865576687, 19.59488493909098, 0.5583336565748717, 0.006814932055488183, 1.524767305928694, 6.649521848727193, 27.19837122492449, 32.76491022494376, 2.9012144856736284, 0.017527595544205514, 0.21244608353391248, 2.089624709407675, 10.269563181932499, 39.676997856972335, 29.592448621959115, 1.1130996797794412, 0.0051076939835163725, 0.8932828532906328, 3.5958147024182177, 15.495258934172025, 34.616664470408445, 9.948554876076166, 0.16671828931348773, 0.02056129830917014, 1.9467360294158578, 9.575514125184863, 38.70342610910898, 32.343242628216515, 1.3970869161247754, 0.005638225898100457, 0.6775623168096037, 2.9180886214762056, 13.042700152077376, 35.96588328351499, 15.130961640926625, 0.3552538424621783, 0.009795389280148468, 1.776045550907282, 8.307878459755093, 33.70975009333343, 32.48596212864841, 1.8575465569824818, 0.008426242975351435, 0.44942171576424056, 2.4037890844003726, 11.27839505961545, 37.827788500297046, 22.3387997604005, 0.6983832032441295, 0.0059506948644054945, 1.3443693342847811, 5.614459001617773, 23.16946176143141, 33.074317674870024, 4.071631517084977, 0.03210889543383003, 0.11389470335525143, 2.023857447993251, 10.061480381352542, 40.12300162156408, 31.51329128531289, 1.2342356918815311, 0.005076691283156129, 0.7926214201989157, 3.2564135046406064, 14.253631894071598, 35.18821003941974, 12.139239552173828, 0.23944468144476974, 0.014253513791132395, 1.8919346090652713, 9.156972775053573, 37.05718804965809, 32.39205068275194, 1.5284791977682277, 0.006353277235299352, 0.5994998974255532]\n",
            "y: [1, 1.0, 0.4, 0.07692307692307693, 0.018321729571271525, 0.0279687745347386, 0.7362390824073594, 1.988521124626821, 1.291719247766276, 0.19084931029197522, 0.010855535745562367, 0.0016163678607467738, 0.011024207919000618, 1.841638368385246, 1.9997133751601999, 0.45531076832048456, 0.02558926738916367, 0.001578072879767756, 0.0018997466672298542, 0.5319026315232105, 1.9998979542475976, 1.5589080779324092, 0.263742166571354, 0.01420991469212894, 0.0014503698017415505, 0.005195351505903919, 1.5246964939936598, 1.999907117715918, 0.6015190755704417, 0.04423199246719685, 0.0026999611574411247, 0.0018612627027568595, 0.2123808366142016, 1.9993857554949892, 1.9136314252923772, 0.3726801990291227, 0.018785705530068603, 0.0012696283278247305, 0.0022812482132351436, 0.8932595494550857, 1.9999478242855298, 1.1123753529015536, 0.1435762200073222, 0.008295208230131836, 0.0016676207415973101, 0.020005252554644554, 1.9459133614848052, 1.999154823336475, 0.4175556105292424, 0.021577191091667686, 0.0013342626983754292, 0.0019100639809531575, 0.6775407780651947, 1.999936422838536, 1.3707167137554623, 0.21018910160824963, 0.01168824910826478, 0.0015449446486798428, 0.00869769423447868, 1.775875156305549, 1.9998081191086052, 0.48142450056197794, 0.028562923144137234, 0.001758477894607187, 0.0018933338580366691, 0.449389808381998, 1.9998580069403709, 1.6639213647475541, 0.295063500782227, 0.015600356905871459, 0.001396705022042041, 0.003999824209843728, 1.344321730818013, 1.999929180969018, 0.7124209760522788, 0.06149654950018705, 0.0037186889298648986, 0.0018266333356841869, 0.11377740099770857, 1.99794016132292, 1.974388229076085, 0.39246475751924537, 0.01956308061001675, 0.0012415764785022208, 0.002011895275220082, 0.7926009926565031, 1.9999484557396707, 1.2283135743600195, 0.17235096058161883, 0.009795949290318658, 0.0016139312925189705, 0.013480619262710493, 1.8915503166801233, 1.9995937572225735, 0.4367368575497102, 0.023570965879249426, 0.0014553549640992907, 0.0019043176593103687, 0.5994757001094858, 1.9999192749951373]\n"
          ]
        }
      ]
    },
    {
      "cell_type": "markdown",
      "source": [
        "4c)<br>\n",
        "$y=\\frac{x}{a+x^2}$<br>\n",
        "$x=\\sqrt{\\frac{b}{y}-a}$"
      ],
      "metadata": {
        "id": "3c8WZwiWNtbU"
      }
    },
    {
      "cell_type": "code",
      "source": [
        "def x_4_c(x,y):\n",
        "  a=1\n",
        "  b=2\n",
        "  return math.sqrt(b/y-a)\n",
        "def y_4_c(x,y):\n",
        "  a=1\n",
        "  b=2\n",
        "  return x/(a+x*x)\n",
        "x_4,y_4=relax_conv(x_4_c,y_4_c,1,1)\n",
        "print('x: '+str(x_4))\n",
        "print('y: '+str(y_4))"
      ],
      "metadata": {
        "colab": {
          "base_uri": "https://localhost:8080/"
        },
        "id": "B5Aidc-nOEhz",
        "outputId": "241becd7-3c27-44d2-cfc1-e3837e0db55b"
      },
      "execution_count": null,
      "outputs": [
        {
          "output_type": "stream",
          "name": "stdout",
          "text": [
            "x: [1, 1.0, 1.7320508075688772, 1.7320508075688772, 1.902314945932194, 1.902314945932194, 1.9636650714924069, 1.9636650714924069, 1.9864122863201303, 1.9864122863201303, 1.9949097477571613, 1.9949097477571613, 1.9980918687165672, 1.9980918687165672, 1.9992845505793713, 1.9992845505793713, 1.9997317204769791, 1.9997317204769791, 1.9998993971476058, 1.9998993971476058, 1.9999622742071335, 1.9999622742071335, 1.9999858528665935, 1.9999858528665935, 1.9999946948304455, 1.9999946948304455, 1.9999980105621868, 1.9999980105621868]\n",
            "y: [1, 0.5, 0.5, 0.43301270189221935, 0.43301270189221935, 0.4118632672940252, 0.4118632672940252, 0.40438075610800917, 0.40438075610800917, 0.40163345114218674, 0.40163345114218674, 0.400611243354449, 0.400611243354449, 0.4002290339314792, 0.4002290339314792, 0.40008586211625663, 0.40008586211625663, 0.40003219469412865, 0.40003219469412865, 0.40001207250421084, 0.40001207250421084, 0.4000045271179152, 0.4000045271179152, 0.400001697659211, 0.400001697659211, 0.4000006366207968, 0.4000006366207968, 0.40000023873260093]\n"
          ]
        }
      ]
    },
    {
      "cell_type": "markdown",
      "source": [
        "5a)<br>\n",
        "Net force on the satellite: $\\frac{GMm_s}{r^2}-\\frac{Gmm_s}{(R-r)^2}$<br>\n",
        "Centripetal force needed for the satellite: $m_s\\omega^2 r$<br>\n",
        "$\\frac{GMm_s}{r^2}-\\frac{Gmm_s}{(R-r)^2}=m_s\\omega^2 r$,<br>\n",
        "$\\frac{GM}{r^2}-\\frac{Gm}{(R-r)^2}=\\omega^2 r$"
      ],
      "metadata": {
        "id": "9iWHqfQYOlPQ"
      }
    },
    {
      "cell_type": "markdown",
      "source": [
        "5b)\n",
        "\n",
        "\n",
        "\n"
      ],
      "metadata": {
        "id": "-KrEqyFoQItf"
      }
    },
    {
      "cell_type": "code",
      "source": [
        "def f_5_x(x):\n",
        "  G=6.674e-11\n",
        "  M=5.974e24\n",
        "  m=7.348e22\n",
        "  R=3.844e8\n",
        "  w=2.662e-6\n",
        "  return G*M/(x*x)-G*m/((R-x)*(R-x))-w*w*x\n",
        "def f_5_p_x(x):\n",
        "  G=6.674e-11\n",
        "  M=5.974e24\n",
        "  m=7.348e22\n",
        "  R=3.844e8\n",
        "  w=2.662e-6\n",
        "  k1= -2* G*M/(x*x*3)-w*w\n",
        "  k2=-2*G*m/((R-x)*(R-x)*(R-x))*(-1)\n",
        "  return k1-k2\n",
        "def newton(func, func_p,x_begin,err=1e-6):\n",
        "  x=x_begin\n",
        "  error=999\n",
        "  while error>err:\n",
        "    before=x\n",
        "    x=x-func(x)/func_p(x)\n",
        "    error=abs(x-before)\n",
        "    #print(x)\n",
        "  return x\n",
        "print('lagrange point: '+str(newton(f_5_x,f_5_p_x,3.26e8,err=1e-3)))"
      ],
      "metadata": {
        "colab": {
          "base_uri": "https://localhost:8080/"
        },
        "id": "aCAcH4enQG1j",
        "outputId": "d8808427-3e7c-4a50-d5cc-dd41434a6a96"
      },
      "execution_count": null,
      "outputs": [
        {
          "output_type": "stream",
          "name": "stdout",
          "text": [
            "lagrange point: 326013579.55160785\n"
          ]
        }
      ]
    },
    {
      "cell_type": "markdown",
      "source": [
        "Q6a)<br>\n",
        "\n",
        "$\\frac{V_+-V_2}{R_3}-\\frac{V_2}{R_4}+I_0[e^{(V_1-V_2)/V_r}-1]=0$"
      ],
      "metadata": {
        "id": "UrEGxF9lTfGV"
      }
    },
    {
      "cell_type": "markdown",
      "source": [
        "Q6b)\n"
      ],
      "metadata": {
        "id": "2gsk70McUrKW"
      }
    },
    {
      "cell_type": "code",
      "source": [
        "def V1(v1,v2):\n",
        "  V_pl=5\n",
        "  r1=1000\n",
        "  r2=4000\n",
        "  r3=3000\n",
        "  r4=2000\n",
        "  vt=0.05\n",
        "  i0=3e-9\n",
        "  #print(v1,v2)\n",
        "  #return (-i0*(math.exp((v1-v2)/vt)-1)+V_pl/r1)/(1/r1+1/r2)\n",
        "  return math.log((v2/r4+(V_pl-v2)/r4)/i0+1)*vt+v2\n",
        "def V2(v1,v2):\n",
        "  V_pl=5\n",
        "  r1=1000\n",
        "  r2=4000\n",
        "  r3=3000\n",
        "  r4=2000\n",
        "  vt=0.05\n",
        "  i0=3e-9\n",
        "  #return (V_pl/r3+i0*(math.exp((v1-v2)/vt)-1))/(1/r3+1/r4)\n",
        "  return v1-math.log(((v1-V_pl)/r1+v1/r2)/i0+1)*vt\n",
        "def relax_conv_6(func_x,func_y,x_begin,y_begin,err=1e-6):\n",
        "  x=x_begin\n",
        "  y=y_begin\n",
        "  ans_x=[x_begin]\n",
        "  ans_y=[y_begin]\n",
        "  error_x=999\n",
        "  error_y=999\n",
        "  #loop=0\n",
        "  while error_x>err or error_y>err:\n",
        "    x_p=func_x(x,y)\n",
        "    y_p=func_y(x,y)\n",
        "    error_x=abs(x_p-x)\n",
        "    error_y=abs(y_p-y)\n",
        "    #loop+=1\n",
        "    #print('x_p: '+str(x_p)+', y_p: '+str(y_p)+', loop: '+str(loop)+', error_x: '+str(error_x)+', error_y: '+str(error_y))\n",
        "    #if loop>=100:\n",
        "      #break\n",
        "    ans_x.append(x_p)\n",
        "    ans_y.append(y_p)\n",
        "    x=x_p\n",
        "    y=y_p\n",
        "  return ans_x, ans_y\n",
        "p6,q6=relax_conv_6(V1,V2,6,5.5)\n",
        "print(p6[-1])\n",
        "print(q6[-1])\n",
        "print('the result agree with the rule (the difference is approximately 0.6V)')"
      ],
      "metadata": {
        "id": "lY6dXKFaUs7M",
        "colab": {
          "base_uri": "https://localhost:8080/"
        },
        "outputId": "a3e48bc3-9ffd-4c2a-c973-c70d4d78d073"
      },
      "execution_count": null,
      "outputs": [
        {
          "output_type": "stream",
          "name": "stdout",
          "text": [
            "6.00000097849277\n",
            "5.31834048994152\n",
            "the result agree with the rule (the difference is approximately 0.6V)\n"
          ]
        }
      ]
    },
    {
      "cell_type": "markdown",
      "source": [
        "7a)"
      ],
      "metadata": {
        "id": "FidYw7QZjLVG"
      }
    },
    {
      "cell_type": "code",
      "source": [
        "def f_7_a(x):\n",
        "  return x*x*x/(math.exp(x)-1)\n",
        "def eta_7(T):\n",
        "  h=6.626e-34\n",
        "  c=3e8\n",
        "  k=1.38e-23\n",
        "  lambda1=390e-9\n",
        "  lambda2=750e-9\n",
        "  return 15/(math.pi**4)*gauss_quad(f_7_a,100,h*c/(lambda2*k*T),h*c/(lambda1*k*T))\n",
        "y_7=[]\n",
        "x_7=np.linspace(300,10000,1000)\n",
        "for i in x_7:\n",
        "  y_7.append(eta_7(i))\n",
        "plt.plot(x_7,y_7)\n",
        "plt.xlabel('temperature/K')\n",
        "plt.ylabel('efficiency')"
      ],
      "metadata": {
        "colab": {
          "base_uri": "https://localhost:8080/",
          "height": 296
        },
        "id": "y1zjK9y0jgfh",
        "outputId": "cf61f351-518e-49c9-88b1-880660605427"
      },
      "execution_count": null,
      "outputs": [
        {
          "output_type": "execute_result",
          "data": {
            "text/plain": [
              "Text(0, 0.5, 'efficiency')"
            ]
          },
          "metadata": {},
          "execution_count": 10
        },
        {
          "output_type": "display_data",
          "data": {
            "text/plain": [
              "<Figure size 432x288 with 1 Axes>"
            ],
            "image/png": "[encoded data removed]"
          },
          "metadata": {
            "needs_background": "light"
          }
        }
      ]
    },
    {
      "cell_type": "markdown",
      "source": [
        "7b)"
      ],
      "metadata": {
        "id": "P_jn-RD-oye0"
      }
    },
    {
      "cell_type": "code",
      "source": [
        "def gold_sec_search_max(func,low,up,err=1):\n",
        "  gold_ratio=(math.sqrt(5)+1)/2\n",
        "  x=up-(up-low)/gold_ratio\n",
        "  y=low+(up-low)/gold_ratio\n",
        "  while abs(up-low)>err:\n",
        "    if func(x)>func(y):\n",
        "      up=x\n",
        "    else:\n",
        "      low=y\n",
        "    x=up-(up-low)/gold_ratio\n",
        "    y=low+(up-low)/gold_ratio\n",
        "  return (up+low)/2\n",
        "print('most efficient temperature: '+str(gold_sec_search_max(eta_7,300,10000)))"
      ],
      "metadata": {
        "id": "RRoYQySho0g6",
        "colab": {
          "base_uri": "https://localhost:8080/",
          "height": 200
        },
        "outputId": "2bc88c66-6648-4874-df6c-68de306e052e"
      },
      "execution_count": null,
      "outputs": [
        {
          "output_type": "error",
          "ename": "NameError",
          "evalue": "ignored",
          "traceback": [
            "\u001b[0;31m---------------------------------------------------------------------------\u001b[0m",
            "\u001b[0;31mNameError\u001b[0m                                 Traceback (most recent call last)",
            "\u001b[0;32m<ipython-input-8-8d6095437191>\u001b[0m in \u001b[0;36m<module>\u001b[0;34m\u001b[0m\n\u001b[1;32m     11\u001b[0m     \u001b[0my\u001b[0m\u001b[0;34m=\u001b[0m\u001b[0mlow\u001b[0m\u001b[0;34m+\u001b[0m\u001b[0;34m(\u001b[0m\u001b[0mup\u001b[0m\u001b[0;34m-\u001b[0m\u001b[0mlow\u001b[0m\u001b[0;34m)\u001b[0m\u001b[0;34m/\u001b[0m\u001b[0mgold_ratio\u001b[0m\u001b[0;34m\u001b[0m\u001b[0;34m\u001b[0m\u001b[0m\n\u001b[1;32m     12\u001b[0m   \u001b[0;32mreturn\u001b[0m \u001b[0;34m(\u001b[0m\u001b[0mup\u001b[0m\u001b[0;34m+\u001b[0m\u001b[0mlow\u001b[0m\u001b[0;34m)\u001b[0m\u001b[0;34m/\u001b[0m\u001b[0;36m2\u001b[0m\u001b[0;34m\u001b[0m\u001b[0;34m\u001b[0m\u001b[0m\n\u001b[0;32m---> 13\u001b[0;31m \u001b[0mprint\u001b[0m\u001b[0;34m(\u001b[0m\u001b[0;34m'most efficient temperature: '\u001b[0m\u001b[0;34m+\u001b[0m\u001b[0mstr\u001b[0m\u001b[0;34m(\u001b[0m\u001b[0mgold_sec_search_max\u001b[0m\u001b[0;34m(\u001b[0m\u001b[0meta_7\u001b[0m\u001b[0;34m,\u001b[0m\u001b[0;36m300\u001b[0m\u001b[0;34m,\u001b[0m\u001b[0;36m10000\u001b[0m\u001b[0;34m)\u001b[0m\u001b[0;34m)\u001b[0m\u001b[0;34m)\u001b[0m\u001b[0;34m\u001b[0m\u001b[0;34m\u001b[0m\u001b[0m\n\u001b[0m",
            "\u001b[0;31mNameError\u001b[0m: name 'eta_7' is not defined"
          ]
        }
      ]
    },
    {
      "cell_type": "markdown",
      "source": [
        "7c) No. The filament would melt at this temperature"
      ],
      "metadata": {
        "id": "xZBniQwyrNUe"
      }
    }
  ]
}