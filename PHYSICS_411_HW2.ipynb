{
  "nbformat": 4,
  "nbformat_minor": 0,
  "metadata": {
    "colab": {
      "provenance": []
    },
    "kernelspec": {
      "name": "python3",
      "display_name": "Python 3"
    },
    "language_info": {
      "name": "python"
    }
  },
  "cells": [
    {
      "cell_type": "markdown",
      "source": [
        "Q1"
      ],
      "metadata": {
        "id": "UUkNQivlez_A"
      }
    },
    {
      "cell_type": "code",
      "execution_count": null,
      "metadata": {
        "colab": {
          "base_uri": "https://localhost:8080/",
          "height": 295
        },
        "id": "lR4yyShgdyEa",
        "outputId": "f4312d35-7225-455d-9ae3-598c6480ba3d"
      },
      "outputs": [
        {
          "output_type": "display_data",
          "data": {
            "text/plain": [
              "<Figure size 432x288 with 1 Axes>"
            ],
            "image/png": "[encoded data removed]"
          },
          "metadata": {
            "needs_background": "light"
          }
        }
      ],
      "source": [
        "import math\n",
        "from matplotlib import pyplot as plt\n",
        "from matplotlib import animation as ani\n",
        "import numpy as np\n",
        "from IPython.display import HTML\n",
        "def cal_v(r,n=0.1):\n",
        "  R=1\n",
        "  beta=0.02\n",
        "  mu=0.02\n",
        "  c1=(beta/(2*mu))**(1/n)\n",
        "  c2=R**(1+1/n)-r**(1+1/n)\n",
        "  return c1*n/(n+1)*c2\n",
        "#plot v(r)\n",
        "R=1\n",
        "r_x=np.arange(0,R+0.01,0.01)\n",
        "v_y=[]\n",
        "for r in r_x:\n",
        "  v_y.append(cal_v(r))\n",
        "plt.plot(r_x,v_y)\n",
        "plt.title(\"v(r)\")\n",
        "plt.xlabel(\"r\")\n",
        "plt.ylabel('v')\n",
        "plt.show()"
      ]
    },
    {
      "cell_type": "code",
      "source": [
        "fig=plt.figure()\n",
        "axis=plt.axes(xlim=(-0.1,1.1),ylim=(-0.1,1.1))\n",
        "line, = axis.plot([], [], 'ro') \n",
        "def init():\n",
        "  line.set_data([],[])\n",
        "  return line,\n",
        "def animate(i):\n",
        "  n=1-i\n",
        "  R=1\n",
        "  r_x=np.arange(0,R+0.01,0.01)\n",
        "  v0=cal_v(0,n)\n",
        "  #print(n,v0)\n",
        "  v_y=[]\n",
        "  for r in r_x:\n",
        "    v_y.append(cal_v(r,n)/v0)\n",
        "  line.set_data(r_x,v_y)\n",
        "  return line,\n",
        "iter=np.linspace(0.01,1.01,100)\n",
        "anim=ani.FuncAnimation(fig,animate,init_func=init,frames=iter,interval=60,blit=True)\n",
        "HTML(anim.to_html5_video())"
      ],
      "metadata": {
        "colab": {
          "base_uri": "https://localhost:8080/",
          "height": 626
        },
        "id": "OxPrWIL2gryg",
        "outputId": "ca34e9ac-61b0-47ea-ae46-f4b0af521834"
      },
      "execution_count": null,
      "outputs": [
        {
          "output_type": "stream",
          "name": "stderr",
          "text": [
            "/usr/local/lib/python3.7/dist-packages/ipykernel_launcher.py:15: RuntimeWarning: invalid value encountered in double_scalars\n",
            "  from ipykernel import kernelapp as app\n",
            "/usr/local/lib/python3.7/dist-packages/ipykernel_launcher.py:11: RuntimeWarning: divide by zero encountered in double_scalars\n",
            "  # This is added back by InteractiveShellApp.init_path()\n"
          ]
        },
        {
          "output_type": "execute_result",
          "data": {
            "text/plain": [
              "<IPython.core.display.HTML object>"
            ],
            "text/html": [
              "<video width=\"432\" height=\"288\" controls autoplay loop>\n",
              "  <source type=\"video/mp4\" src=\"data:video/mp4;base64,AAAAHGZ0eXBNNFYgAAACAGlzb21pc28yYXZjMQAAAAhmcmVlAAB4EW1kYXQAAAKuBgX//6rcRem9\n",
              "5tlIt5Ys2CDZI+7veDI2NCAtIGNvcmUgMTUyIHIyODU0IGU5YTU5MDMgLSBILjI2NC9NUEVHLTQg\n",
              "QVZDIGNvZGVjIC0gQ29weWxlZnQgMjAwMy0yMDE3IC0gaHR0cDovL3d3dy52aWRlb2xhbi5vcmcv\n",
              "eDI2NC5odG1sIC0gb3B0aW9uczogY2FiYWM9MSByZWY9MyBkZWJsb2NrPTE6MDowIGFuYWx5c2U9\n",
              "MHgzOjB4MTEzIG1lPWhleCBzdWJtZT03IHBzeT0xIHBzeV9yZD0xLjAwOjAuMDAgbWl4ZWRfcmVm\n",
              "PTEgbWVfcmFuZ2U9MTYgY2hyb21hX21lPTEgdHJlbGxpcz0xIDh4OGRjdD0xIGNxbT0wIGRlYWR6\n",
              "b25lPTIxLDExIGZhc3RfcHNraXA9MSBjaHJvbWFfcXBfb2Zmc2V0PS0yIHRocmVhZHM9MyBsb29r\n",
              "YWhlYWRfdGhyZWFkcz0xIHNsaWNlZF90aHJlYWRzPTAgbnI9MCBkZWNpbWF0ZT0xIGludGVybGFj\n",
              "ZWQ9MCBibHVyYXlfY29tcGF0PTAgY29uc3RyYWluZWRfaW50cmE9MCBiZnJhbWVzPTMgYl9weXJh\n",
              "bWlkPTIgYl9hZGFwdD0xIGJfYmlhcz0wIGRpcmVjdD0xIHdlaWdodGI9MSBvcGVuX2dvcD0wIHdl\n",
              "aWdodHA9MiBrZXlpbnQ9MjUwIGtleWludF9taW49MTYgc2NlbmVjdXQ9NDAgaW50cmFfcmVmcmVz\n",
              "aD0wIHJjX2xvb2thaGVhZD00MCByYz1jcmYgbWJ0cmVlPTEgY3JmPTIzLjAgcWNvbXA9MC42MCBx\n",
              "cG1pbj0wIHFwbWF4PTY5IHFwc3RlcD00IGlwX3JhdGlvPTEuNDAgYXE9MToxLjAwAIAAABDOZYiE\n",
              "AD///vdonwKbWkN6gOSVxSXbT4H/q2dwfI/pAwAAAwAArqxz6KZIGF3rxgACdHsTziHH/gAZ1ZM3\n",
              "aP6Si9XO+dtOJOu0MfSurjX6z9//xsq0lpgn+wf8G7NYR2QMCEvQoAaP/iaJsxKV2GDZDtWCQY/d\n",
              "fEWGq0k8fN+DLKCkKeXYzwUsvELVclCMMozDS+0Bn+gxl//UhJQuqF0CXFrhE+i6Lr1M7D7yAXEZ\n",
              "W8g8BGuiY42asxAbQIvz2WyNkBo19CQbO4AFhJJqs3/QnkyoFem6ZoFMhWtJ6ThdCv7lZRTNwada\n",
              "59mj8GpDoMnwPDtiltPUq8wJA9DJbgeDTeIdavPJSV1mOH+bOVRTgmCKWJv6EO9YG9O5Jf+f3m32\n",
              "hJplMJo8NiI/e8dpFxU0VsG3tlWD+MFD/i/+uN+g5vj8dhS5Mc/axf7tMk+TPEMchPvfwU6973eW\n",
              "FIfJKeyB9M2Gj0rwUyiO/iXuoKQgCOkQ3ppx1+Mi7aTIM/qSe8R+Y4p5a9c1eE/zUi8oiVIkgDem\n",
              "eNjmgEgjcOQp7ohl0FQUKIh39fhHk8SeHCxG7n62LRMr09Odxidz0Aw9QxqMZSwItKRD+9wfvKca\n",
              "4XyNJ5vq5a9ZIlKHgnQjKDPRC0VnOafbgMt/CClreBN2i/P2a4EM+lWB4Z/Al4l/j8MevISXHpsW\n",
              "nRll+vmOk6Q4ur1vw5Sqlh7kW9NL74fHzHBwOsfLFBSSF6k78Jeb0vI5OBg7gzSgGD/60Kotb8qv\n",
              "ZpK1AQPY4A5hxKmqgN3d1jlaUPWWqVZO4ybLrsDUPhMgk50PtSMrmq1JaeLySFbvwpuT/4pwzpp+\n",
              "dBLWT31QHIAAButNnrDkBhMkzG9OLSkghVmYScv519D6aC0DBELZJ415f9415uIWkEx5ra+EZVrS\n",
              "yec+014wIx3tO0JbQPgU/KyNjbIIEz/lalAiZRRjrwYznFiqXIX/47PRBukwag9ldaR3ixlaKA5w\n",
              "425H0Q5asTaoAC5nHGz9jW5b7d5TW5gWd5l11DC7SOPVxT6J4rMwsB93/3CvrYs3eUPTVUoUh2IC\n",
              "jtKFsTFpsYxRdXp2xBnCHhd7PsBDQTwYFZ7WnUbY4Lwgj+KbNf7JGY4c5J3yQ6zYfFuJuiAfJ7+0\n",
              "dJ90MxE46OIyNHtZIq6COkAVC/yW7B8QFSnWnJgbmTrLUnUbqsiiXGkcFG3nouglWQi4VxHGXSq+\n",
              "Be9zNM2uM9gUGIOt9k2reKsNgjBKYTu8lqlIHf1WugwzRj2h2N3P32Dz8kkYCpxb+yFTNvFIjw3H\n",
              "rl4KNJC8dF9O9IFMXeGFOl84iIqGuikW1+rOw7ips2gUK1R8CWhwmge/BBWdxHihmWyuD0+oJiN/\n",
              "LlKbWkr5IwHqUmIX/WXP3QWJMEXuU7dcFQs6Y3Hx979j0L6fnGcfLCbJfOpBneH/cF5XbbuN6Z5G\n",
              "XcjjOoUJ1OTNG5DDV4gfFqylO+vNIN8x/YVWlASS2tHZsdnWiNLyrJ/x15OZisvg43sIM2cV/vB4\n",
              "Dyj2NANbX939t0qvOZMi1d98sEQQwS1P5zrHFTqJVGbQW7KwvoLSRcu+fOUF5vfwqUm+8lC5876R\n",
              "Klh2ldDqGzk/YG1miEC8VxZPlM7hgIGKlKLNdTIL8wRgDqH8pdAQ549oV//qs38Ef0GrZULHpdYs\n",
              "IETpAZKjsudlsAn7NY3BixeIkuh0Bi0Nv9sdfg8sVCkhle9rEoyeABg9h3pmNjN46wHfES9WBOE9\n",
              "F2fyFcjFK5PT2r48K+eujQ5QDsNoLFB3e8WObDghUhJmtjJMC1AzCM3UIlo0rfG5QS7o0g46C5Z8\n",
              "K0g78ELiD4Dgl40D9yTwYFyEFTKgrVNWlt89lYR7Gz7Ky0KPRsIuEaGRzS/uqNCeEj+uTMttgiWm\n",
              "G3I7bP18YW9equL36GQPyfGzil3Xz+IaEGb9/szFwmVGQu71p+WvrtSmoDKAxwhIPUowUmqJu60l\n",
              "Zs5mC00DImQ+pbD+wx1yM8B6fcHU4Uz+D1Jp8G1XkfFfRCagdpQsX8cXto6gkmtQov6GnqUQJArm\n",
              "mcwl+1kLLyEtYyINIEW5WKgkCX63DpPNg8pxiz2ogjqxcTgrWfVADgVwfjzz1x0U+6vIq0qKjhRz\n",
              "Qf5qNF+hTjv9imhbn6E+qg8HA6Y3cxFxSxF0ouFw1NBevW6UeKW6dajuswOzWpz/X3FbnZYWsrsk\n",
              "aMo6xoYHDhEfVLUDKqzEMctOOAj0TXTZgyy+BmcxrTZTYBhWaubtCgC6P5pyHTSoUNe4rOEH+OCn\n",
              "YJxmwjPm0LeADQ7s/1T1HWf2I/Zlh0gGGZm6RPQR0P+yVvx8yvQvmRh3dnVzcgZuO2UyY788RPPP\n",
              "7U1AfRunwgqay+wnDOqzLEhWT3KYs+WLB9MXTA6iLueD/6ekQnwtoMmLQzafyJ98OMWZA8AJr56l\n",
              "05bJICZIfREfLNd9QgBl6cnna6xPZRTSiB0XRcjUn2jIIDkWkn30hqdcH9S1JSvyZZplUfrg959j\n",
              "Ghbvl8a2fVvi9QuemwpWfqmAuO9q6o/iYJNF4XwcOE9aQLxWPW/LzOUPQD4pI/Eak6SGkFoG9Hz4\n",
              "F9Kb+zwWHlNZh9sB7Svjr0jQPpiE/c0SDxN5LB3PhzVxUkeWhGNOO6UvJOeQ1E7amPvufdc95g4A\n",
              "r3g88ShicYq7egWBB+YlE8bjteV6A3dNAzGSKE2xt/2Ft278S2Hq5o7dSfeYZ5cCG8U8P/hmkV3H\n",
              "MnZ7qqxJ30KI1P/ItCMSQ3r7y39nv8PNQoj912WHC471ULKVoVIRd2LaUhP3T/ncEHuERX8UX3Pb\n",
              "FCJ+AuvFn7GIvNoeRKoUYt9aYRTbL7QXn86LyXJirsG66IpLQ6R33utfappqt6kes9UMgS8FMYRf\n",
              "KYC2Ii50WDJP1tpx6ubCBphe+cGp0b2SGV/Ar0elIkoF5WcTZOVXW947srBHMtHDs/DFMfkxE4+F\n",
              "Wa2pt44mtYkhIIZ0Df/sK5r08nTYFvy/aJaeMgcyoZhk378qIutVt60+mQKScWV0Af5TBmgGUWBr\n",
              "cb1vQM8eVieEDD61uZjhtfhIw5r2I1Pnq67d7Udx4zFfg4jg2cBEe97t/KZ1jzbft4MD/b+3TLMd\n",
              "qfi7kMrJuxxc9YOI7thZ5IP80PxB0u5qrU1cQYPB5EQvpFlHBuJWvgjas4N3lOS+SAwV7pLiyKbU\n",
              "iCUdqw+UBPLmmPA81Y5X+FMex9EvTU9HXPgvTJod50eyuZaoiXQ3ANslWCKx+Cq5KHv5QAokVptP\n",
              "2ZYAqZBbnjvx4R0w4/qEL5bs2fl2bPmx6t4B0jwpUvJNNDW0OdL4OkSZ0Hw/bjZWkeF2+4AJPVGr\n",
              "emCCRGzH7i5oONsbRPOL1moL7xnhcqIbBbpa6cw0mK8abJMAirtYcMITL3N6aVhKEnEKEYRwsevh\n",
              "FCggVvf9S+9m83Pm7DW5iBhLluveyB1msS3OvGO/eHSIQkyZNzQHz5sqIZUvFymZx6bwiIKPdHr8\n",
              "+1pJWUdgFbnYD93aWjquUM2wjkSb5pSMD53bxHT1uT1d75ySWwudHa1gwW4Szmz3tAglwS2vQ7Iz\n",
              "qdKQueMqwB9pJ9O2et9N/Fe93d/Pv+oI5Wv3kJ4jWST9HKUTDylvvunHk/kdezXNzz0ip0iXHEjN\n",
              "APGqd+rzzhKvO1dNm1x27UHYISkGQF0JlH9HI3PFaJQHQ4hZ+2EuIUkUxtTBOwINtz08s4qPpjHv\n",
              "kkLSogjmGXyI3dcQ/EyQOS/MW3ZVJcjksZbv9q9LHLsvj883ONs4OVTDP9/a5m4VCtMXyTAPwtgF\n",
              "tuPEAuD+OYKV/aDqpIMVdhQweHAnAMyKLxvAI+d/U25Cpdmc8zte4BAxuT1jD29aiRC/4GoaMCP+\n",
              "djRr0Omfqv70SaYoBC+qwvFrTz1oqL7WkCFAHylPkHAbQbJOT9+6WkqKl9v18qk+3difWV8vel07\n",
              "FONhkxvid0zGXZf0aYxMEPSRu/EJcFWWgZpoqXL8WQGb86yliqB2J6XS1unZXMxKVB4L6B6tPJtV\n",
              "u2M8oRqgcO2hjmxbnhqG+371gIBeclA42OdbnAQI35iQYlM0CJBR13YGppwXroSf3ir7gqtNkk/+\n",
              "t9W5N2yXqM1DnFkUD1gJnZ3fxojMkMj2GuxtnZ9Vd6FyG4K8IozhgGDHg7m0Og/5OPLEnbj6roX5\n",
              "CUE9VaNIYHYJEWEqBdI6u1po+UeKGkr6Izy7EJ2tG3drylovZ72htqfRhtReUtbiN4LHecHpEKgv\n",
              "IE0pRgQyEXKMQnoilBzX+X9VCJ7uuV7+9LU1H3GtkFAkdkGezmD1vcEuWWHPQ/yQic0kZSDAHA4H\n",
              "xPdLh0E7DvmoWkvxw1mxaCk2sHcm1mV0mnf2334np+t6tuFcgf9IpN6yKLgm8LCvpTU5Til1tIlU\n",
              "yPGFiyZugT7OLagSv09XcepH3AeeASp+GB0BKw5QxeQ7gKQXYs2Dnj4MONWvGfxYgH3CeExCdXpD\n",
              "SDRqH8BaQUU7fdZkrUsvjnwA/lwlJizgA8UdgnbUx3Zux0+aH+0lBg25mRYnlIses4vfpqIXWNlC\n",
              "ENuZf+L7Bx1kbYQADVd/uH6UimS0ewKqlthAEo9BLh+lIpktGua0i8geSdPvggHYK34L+O5WVzen\n",
              "91RMqTRA/tYPUmZuwo+rReWJ+f7yagNR5FEYxHrH7UM+XklmKQ2pBWKpOejZMkOyO3dZWfVfgLLe\n",
              "SID2T2YgO0gOIn6VZJhjBCQeWkBRGgQzvCo2dDEAvNjvV02O5/4pNgHgLA40PnCfhC+5WuGcrkXV\n",
              "Xscwa+cTjnFusnvF3JUHznbdtp1Ha+wKLpeRgs7ao49xoAnaiMchdR/n/cFnlK4EyavY8ZAw2S9n\n",
              "f9gsd1vPkgfiJYfGAF5QLTBz095cXQ3fczBYzuEnISQL6SFgG8xHAthrDX5k8Ppo5G7ewT9xcqj3\n",
              "TnSHhf+wGvuOa/VdFvD3mEj5iTeKFbXcfqXrJkWY6jI56ueLlzL74UnbpfOd1/eDGBB2P8aBWdZO\n",
              "grBI9mNu2o0/Wbc26t+q+e/tXxbPq28PpKG4VNvUO9mXSynpVngW9obsURrV+r+OhIEaMGypXX5M\n",
              "P8NqvVwqP4hhNAgLr8BeOltmUkBX/Oya8Ljx8iSsMgy6CHi4ah/Myry77BzZAO6gd96sqaYSC69A\n",
              "Gxx1fFP98BBw2aZojRq3qPI8o+u87kPimmHgKhtfsiwfXKSvzcx7nTmeA8GVlPsQuQ4d2OXF0OQz\n",
              "Ye8Z3CTkJIFCdor+7eN+PhG0a8c6ewuzuS7x0m8h1h68aWBKHbhzzT8eHr+bcuzx/B0JFFCvQZHi\n",
              "SczqqOliJ20DZ5an8yo2mjMrKl23xdIA74FdSMtFOo5CrFcovKgnl1L7ylOF4kFjiXwTKFO6t6b/\n",
              "JapiGYrRoyUovIb7vlr8g2yKvlrJwYdbRtOSeB5AML97x1xzWPCH1HHhLepx5Hb97G/AZe9ihLPP\n",
              "Mi0hHyj+ZhaO778BMEsmjA/VL5dY5JurQynm9E0s6LZkFYoJ+HGL7YqJXjzhYqX81y7AN1Cx1McV\n",
              "wYWe7UGuJ5IHtWtkc2hmkJNlgEeB3myh2WqS7YKrRKdofFnw2GGArbHDkrnwGWUuETfgmKAQ0VBg\n",
              "GshLMOm4oAa5mcG5ISXRGecwHe2BNfMl3O8HT1AZyA0/WGK8z6iAZdct0rYSREXUxE/5McrjdfjO\n",
              "ku4vr9kQOaupo6EAOjLAUofUogFWAIaBAAAD00GaJGxD//6plgBnmPOq5FwxdACHrDIGo20e9bxJ\n",
              "WnhIVVWXYQKxSQxL2mWkk8XYnrTncOPw8uhcyS55yrHqYP9veEV5jabNo7uyxMjDVUvmz4XUUIXo\n",
              "MMq5whMBH9gxPpeVZeZ9exxqu2+NoOku9jOKuXu+zwQrTI4/RDd+n+XRuEUQQ8F3i09k+yRBdcsf\n",
              "48P6C07Xp0G7h7XBxXfh2NYxlmu6UvXntAbNbiwvBK86fclDuXLchOlatxxy8Asq8kkuPRhUz4/O\n",
              "eEQhaAGAeyTGmg0Fdw/1Zjha+lTXd5S8mrdchy20KNWqXuqI1LoL3r4Pmb/Jw1NThBtGQ0Mb1ru+\n",
              "ZoXvA2grvPpbGhV5wtxdZSX2AhyK6eTBfD4GzjltLrezz9YzBN9zsJ2O9CCUw5QyBPe6L/sNrXvq\n",
              "GABYchJFskkcYtB5SNKP3SebDz7y2Y3PZl5ZfQD2ttwh+fZV9vxo7Qpr6TvDuuQVuejH9/YV+Sr1\n",
              "hesppOz2wKLVLLBDhNYa3L2iMlyZf8vBLE9c1UHj4wBdKH8PWzezCXkTZ7r6JwcaTgMyanEl+tUu\n",
              "+/Haa/XUsD5Mv2bXWZ72QIYPSLOYp/erAnzY1S+XjTVoDp1WrdkJ+MWvKNRjPKg4Q9y5fN++r70y\n",
              "MGZdNkwtF2MkfMEX9U6khVedsAvZ2WUFY6sF1mJ2BkvVxTR4yZ9x2mq/MNye/zFg5Tiw9HZKu3RD\n",
              "b7fOy5Eq/FONzg1M53Aa/UR1G5B5hizsq6O8WMOTNDFoxkLG8u1MvYOLx0fXuHoMwRElKPmwbdfV\n",
              "InfcEUeT5teFWBPxVceztJGOkNGjIjniqm3gpsFAysWiuE8evXDluZV6LHqpNjRRfzgjw8A2Qf6j\n",
              "mXTBkRFrUT2tDK5jkCGifYjbHREu4NRUkigOI9E2M5L8DLKT7n+WHcx7jZAJ9R+Ld4koKH7tLjTf\n",
              "1zlhRtmGgzJBuKI4mfX/VN/xvgLPWXAjO4cz40xcLV6kXgVwUKPQxMqMHhifA/pcMBfpLJ2wtqDk\n",
              "TI4UPSjsYR7IsyNmrkAPYlc1NtQGgB+P1J+W/tAb10r6Hrxh3lBMray+nyj8IZfif/6VrUmO8f7y\n",
              "17zrf1gOewrAnLYshDoY6qbBBYJV3+3R7zBXaaVj8ZmattzvtIDvh04Y96Uq4tIaHR71w0YrsOH1\n",
              "v9hywK8spKCMrgRv4Vw7z1/0P+EiOOow8ELd6iQeRGFjx5QqPcKKDUaZu8oXxR2xi7zETr3zTBr9\n",
              "r1/a4KU3uzC6/C6lTpenQv7zAdUWOQneMEoY+rjK+LgZE4HrMhQAAAFRQZ5CeIZ/AFrUIdcdgAFx\n",
              "jFAj3+eYPV1QkY6/aYnEnxOGtD0LtqCB0jxhqeYVqGgObUCzZzE7A2EKIVWJaQiW8UvWddGc8CmL\n",
              "fypQRIDNMltHb5HMBc1n5UtRVMUd8i5Wi7pIAJU4B5GSWLMHMrlTyBfiwIzNazD1LJNRlinJgcwM\n",
              "qcZ9VDx4UtQgCBgHSZdbFPQL/GSQ9Vu+okprVg26rXDKQ+Qfnn6KbAH2WBxf0Yo+Ph7uxpriEbdx\n",
              "X+l/uxR0oXDB42v/G0xbMtGEBgrVAL+qGe6pkyvjAsUiMyejKhmiekWnHph653+xt6cSV6tFq0P2\n",
              "u9j3OvIP6b9K0fqcsi9SdIj+O6E63bwI/e4fupE8L9nHBC2GfTb0vPS5PANvCgR5mV5/nmVL2hjh\n",
              "FAXO2+pRDOPQ+qEKWZezl63CNTjGgISGCmUzrkAIuxO1aW0d1QAAAI0BnmF0Qv8Ad/8Rg5XkBpZi\n",
              "CBOyUxWRH7NXR2lABDxnMKeT5+bGejPx3L2TP/d4qT/qvO79jsVBn8JXLcen7KaD1AxdB41kSEKk\n",
              "hoSZS1Qno2WvlUE+r9B39EH0RgCP0PweWBMQhi7l2DH5Z9j/THYrG0ZtxbvP+8w6k3tNcplHFHBU\n",
              "MbC9ukVfjlRNgcMAAABoAZ5jakL/AHa9w+wYLn+GyktMAENvoewSmA4H0m+nvH/qb1h63wj7Bs0Z\n",
              "iiaK1ud1pfsHdAzQvV5t1Qmfte1i4CpkjF/1PvqCZeB/nuTk7w9W4VLUQI5N/a6ashVd/aqC/ozr\n",
              "n1/DkmMAAAHnQZpoSahBaJlMCH///qmWAGeWZHcKjO31AsA2AG3z6evjoulsa+D1Nn4AwcvCvgzT\n",
              "9Oicf7yc2Ptow7ZmZbLqnpe13OSMgtb8KYAswJpRLzkjSz4BgaozW1Ckl07s0t16T3gRgNt0g7HR\n",
              "8ClT8t+0mpLlznAbjJkA2wBkP0yYXbsdovGt8ib5CYaRxSly7tzdyryOi/92IEA6T1BW68TsBe2q\n",
              "3WOsHAeEmTbDeWThM64WGAgfFVotg0tpxkQG0R+nSVZt1ldbUcC3DVVcc5q/YHfzgRsjsi1m5SFG\n",
              "jxrQrtOPIS6D2CVDZXvkL7O5ivkrJqbyOCBNVWcPaJB46V7jY4m1DURI2HX5+9GTz7Sx/+iSnrpR\n",
              "uRNuMQH7VYrbsxB44aGJr2qG+1/ourMJyS7on6SZGgcYMuS6eWh9MPDObysn6KCy41TfD4VUT/zk\n",
              "+zDjKZJG3qukD3tkscxebj09A6scjY6UOVNFNogZbBKmaKq5G+GASgEji82HMPAhfyzYzwaM2E00\n",
              "PqcrZ4Nhcvbwfu753Y3OgX7rRjKY12QAyJA7ASqbtEhQ04xZ98Fk50Gxmwi/Z5aoW4xsqJ777Bbv\n",
              "+DeolfdBE0+roPTV64nNRz/SBXrQcihdl0ftITtHobVoPGG4pUKDmQAAAHhBnoZFESwz/wBa4CeM\n",
              "Cj0Wl4O5GQnH0AIIXNbj/1EEStReg7Vn6VW0dy+bNelHIRAaM4r/1gmDxybIq+qHYYo2OT3UXKYG\n",
              "s0AjnyF2O5bH0AgsjNFdh1ZO40kcYA3oihkOP0Rhm9yt2H69kYWT0HfkzV61cUZRkPEAAAC2AZ6l\n",
              "dEL/AHQZaqRgBApd8/xRvTKFIUpTI7T3a5ccRHQNIecZam2PKHENlc5eJ1jNT3okG3vonPE2bgCn\n",
              "QIn+J8MFzYDiGng2G8UmLXcMHFyhpyf0nBoYDg8/toYXeitxn7A1Cn/byB27CEW+zcqN2ecOKmpP\n",
              "pqiBgijAuPo2Z15G/FacrQ/+9oVqXH0rjSnO8iCwap+H8nRlPRRFIhzvS84j165OeroXPou7wvZx\n",
              "k6RPFbPsJuEAAACXAZ6nakL/AHl97CpKkAG0GNh8gARdsjcvgqyzcXtioo5uvDHyLz3vkL0sQa8g\n",
              "edjKVtbOnrVsDNLFcR01zgLZyvdAvfgGPFt2xq98Me1jpBzAkuXwQ9k/Enzbdsg9MIWNaNHup+fB\n",
              "/ke2X3Xxl0+wZ8hCABXFy/TAGcPfkkDk5ehnzfmx1o7qJhMVTqtqD0VfOI40SnlbQAAAAelBmqxJ\n",
              "qEFsmUwIf//+qZYAZ6zplCtcaVVJ6AC2kKqhtqw67o5+DgR1cWGvGf6VqMBwPhkWsoqqwkmIcJgQ\n",
              "fzQSoFMcBs1MjhUF+txKzq5bbvStvMcudu+QGdc3hl/g6o8mOKptLGg/oxgedgRXdsUrvWuEJnHa\n",
              "hzIScLXtDxOs3iS5w1QSvxf8ABGpn50S95IHblkS9T7CUJ0mwJi6LV99kcR81HN8qRZIVwVfwsMR\n",
              "854YRl+QOolPb686QlV43WY7spjk2OkJiuCJLrPpAs9Osj0lc1+QLHJRqhY3UFaHsmN1bpBaJD5U\n",
              "dP9GuqXNk+9GX9nS1xWxuNFI77w6FGq+KiOOW1AnAw5/ukLzP624mcMmZ+mG6FRpcjLn45dai1p/\n",
              "5mFTb4RPrtJIhWh4k+voJycYdOarsM3G9Y3sWEbtP6yGULGFvbZtjb4s2385IN1lexEirLE/3FbO\n",
              "hANjmXRWkGAGKd6Crk+EN1yFOIEt+Swi0/6HrxEzkx8HhG/IVewrPGr8J4UVYgjZQ1NZhl9M5zUw\n",
              "8rkq04HDQafG12LOyjK0dpHn4BShXLsU4cCGmcxFKAC6pAxc4JG3o4QI8n4mJuKaLirGfv15iu1Y\n",
              "NwQMlczllgPh3E6vMHeYwGW/3PS1dVXc+QeZEXMAAADNQZ7KRRUsM/8AWuAjQEpe74AOVE6+5y3C\n",
              "mATz+U1pCLi0rwpYUuemb0Sfd9bORFH2EmmDwuHUkIkXsRIjOq3hpUgmslfiqHxQySQt21Y4r6JE\n",
              "VhnBm/RXq8w2eP/fiDfwGiBW5nPvLZdjNmbWO5YIDOjqCO3E6BFRYfe3ndo1+19UvW/9OgpXltlL\n",
              "eIn/SYgMmtQBdrxhmBVhrH4gjdYnEyGSXVPVsC5N/ANVYXQtTd1covURS8tPw9lZZqHOzSBxe0DV\n",
              "V7fPPHqA7Y40HQAAAM0Bnul0Qv8Adt1XMAEQejGSUUiSfzFWJBdNi4EULXMWANf/hre7cvgyY13X\n",
              "mBHSNUeRpBgo8q1zgV6jnrl3vFA7Arhb/6JwhdQ3aRGwwWUTAcjoaTs+lfsh8aanFlBZ4dIVkg2E\n",
              "ezFldGsPBo1YAjirGtWOifzL3aHviZzV9bReWAmCd+WcP8QNoXa0b0znxaZamli3djlA8LaRCCBo\n",
              "JWkkfbxgb+lg5zdRqYaTYvjqC8XV1BYr1vRsLy5i7kzLfr9uMJlags0Rdxt3j/smAAAAvgGe62pC\n",
              "/wB5foOx1uHApl++6MoeJoOjACYx3ktP1rux95VFxIGx5q9dKW9gKHVjps0FoKRiVYw1uBIxiETo\n",
              "+Z1YWFxc3jRFezgD9Xa7sCtZ/ZPbGcZ5W4g6OzHqzunwQmsvM+/PFcBgeBxH8VJuw/AVP84luUJT\n",
              "FsBQGW3+eLA7+zF8uJfTlBYur+xEdw9i47XHXgOW+n6pg19rUU1/yOi+GTqcheJMLkTixHALOGAH\n",
              "3EmjOrfwm5qK67AdfDAAAAHHQZrwSahBbJlMCH///qmWAGUbsnsBLWmOBtXIALnfNXx4aJ1Kx/1x\n",
              "3lZBRxzaN8DnqGNXCYlVUlpK3kv3f9iLKv2Hx83GVs9fH1fc84uTh8mxvwMYcWZbYoUvXp1+ltli\n",
              "tqH3twHNeXxQRsiQnusnUgXkA9ofEC6SBClnjtdT3QNTnH4C+DNgbv3bzwrAjCebc/Q3SJa6YId9\n",
              "diCn1epFpEwxXPkUG8FNGH1FN+RMT1T1zLbPic1/ugh5k0WNhN0pW8vtd8dM+YnmdxrFu8g6/ecE\n",
              "m5U4KtcEOimRpjHSFx77d5RLGZYrkRPYyL48jAosAIkncLtdwBKqODpxBodmB/R+Cxk/mNMbVOMi\n",
              "tQoSKDmW3F1qtLbueJkIC17/FdmJ5WZFkaAqL4zzDgw3q/lF+FxpQnlknhhhnrhPWha2mVnFrRYP\n",
              "UGnwyuAycfH7u+FQk87I1gRSueqyoqC41FfcnAK/Cva1BwiMoCgGkHUK63/OUgbb6An1VgRosfon\n",
              "vaMNs4bIHxrU8mTSxq812nlbkgJLgfqIml0cN6d7PM7QJy7zvv/8/1eZRaPAkJ/STdcxkdZoKFK5\n",
              "iA3GNglzCMI+A14gUHOy71MAAAEyQZ8ORRUsM/8AV2vgBqjsfM6wpgAHY0fqSKH5sjZRaIrwajO0\n",
              "daEuF5pD5PcmVnYyeWT2tFG2RB0wBeG0XnC1256eg6SWJDYbYbjP9TrpGsHcH1PACJJJHVLz27UK\n",
              "ZkyPprOG6gW/sgp+9lUFbY4FJ5Yydn4Kx3/PSxBZUZGmiYtmTa5O3ifNIEDcq1Y9u7CmRco8RzwC\n",
              "LWhowLh0sEVdQAf8Codn0MiIVA4E3Xeawbqo8DmMf/GW7+1u095vqAv6X2K4VCjX8oLYIlMTkz8M\n",
              "sm4BfuWv4tw4sylDDY94mnSXDkg2EJu9wB+wviEWLRz6TeHNLdpUPEy9Jr9A76wivnpN+wEfVciE\n",
              "C0hlGjv67uvjebi0+/SsVmrdGa0jvaNiqYvG676V21h8aLpKY1zi72IvAAAAtwGfLXRC/wB22VaY\n",
              "v1EWGL9yk2pc6Gk9ACFNRefV8iKmVna5GVnK1NSAIBIIl+sOriUPhX5545qRUUUqMk1y9RzkFU8L\n",
              "HT3eLSMfGIzQ/cjHqiqN6d9RfnPgRlsoBgUxERM4PHcV6GUsfC2BNpcZYhgFJo9s2MbEweSE11G0\n",
              "tdnsQqLkrf3VJfTasBW0LIqpWJMQX28KZ/ueoto5cflriMwupTBazPNequsVmdtEGgMJjZfgGewx\n",
              "gQAAALYBny9qQv8AdtKPXLAAh+fzW50Uv9APPqEr23silg0oUj2tOp1vKSywDPA1jm53oVwXSjHf\n",
              "SZyrZffOiOZxRdcW3DTame6zmBkehz4va2peUmBl+GvP5L6PRYIFM9FzKiiDBP1r9kIPN9ntj3Ki\n",
              "MVy1DuBNnzk+O429tx0LKsvdycm9ZZagvJ/QrBYibVOq+tAIk1C6OH8H/QAhrZtl3tuqaqCdCcq/\n",
              "AagwBjsH+Ngpb3dQyk5HgAAAAkxBmzRJqEFsmUwIf//+qZYAZ6K4XLMA/fVRiU3ZY9qABxOPOXRD\n",
              "kwsiPdnjncoiYoaRfy4A1W2LXfq6ZsUA8uyhwXoe+wURJgaMmdn6R089SZTraEeauVCpisINqpOk\n",
              "BUfnXhFprYTiwHEzHquAb5qnZbN0H0NZnXvx6o2UUyI3cToegEsxBp+Q0BjLBvM0Wffp6Iy6zpwV\n",
              "SDRaBfI67B3X7n2IdEDglw0RC96v3K1wiXXLOuOhmyXOY4H1EbOdbazUx8r0U++EgNxykBpfO/rB\n",
              "yzLGjBET/dxLXZpKDw66YdtNKSg6KjGCMZlfK/EN591fyndA/ENzTt8+9nuvRHlVwz9cC0YAEeqe\n",
              "/Lgf4WlZjGC/vlI+/8/UyVyKh7MnfJcAAw7ZwP+7scIKOLzGZ0qBEvdGC7SpJ1fXKq9vMxgUsDq7\n",
              "FFSSbOX9mkejUvoRJF8jQUmpDfuAv6tZaVuMQDPhaEuj6nffB0nWmJCMse2kvmDSnInri7AKo6Fh\n",
              "ejIncdNSaKT8YbiSv3GZej6AE4hfdGfMcnLKhYe61Op0Q2x5EWhORv/BAtFgmAtcpFE4d9r5ZXnY\n",
              "Tyto9oc3L8QUDjAKRXeRxHfwIls2hKQPOWlyBl7jLYay3VLpA177feQFmpUuT0QRmY1DJk1Tbu6L\n",
              "YsegKjRd2VOqOdUOsv278lmQYU2BvO/K8nCG33h+5Jq8dMNfH5zG4zPzCCt9BYLSVaA5DvnEZDIp\n",
              "UeusxGo5wnpeEcBMfoCS8ta5wUgOnq/YrP/affbM3bUEUsIkYUAAAAC7QZ9SRRUsM/8AWuAnjjPX\n",
              "Iogg3zrpymmAEkS3xdto9CAOcYcKLz+ZNy4nG4ThSV7/0QDauerZF5SH73luBBrPn4XKB/1c4S/j\n",
              "pA5wFhdo2Arjkb1WrgbU/SEuT9RCLfjdV46kJGxPVoHrTsl6CXcKA4qd446jUl1vAn5GmlzH77vt\n",
              "mJd/i2jwdFtmhdGHf7HEw52qeCGOfMAt05+L2Sf3yimZhCkmrPDc/9lTPROGKWuzs9cjm9gsxXjJ\n",
              "aQAAALkBn3F0Qv8AcVtZAAbSz1W6lmVTnyJOOLgyVjajgmeq3/7eALHEafAkua1nn75P4mhyZXhL\n",
              "R0LJ/+XoZKjrOonNvctpHo44GV/zy8wWFMuHUdwjEa6KRb8UrcpOTbcsQVbzPZIcEwHbKm4fQphR\n",
              "2dd1EG7oaSM/aiZplpmY6jEFbBALCYcMu9/arNdixwIaBw8lBm8FINLBYc8IB/YWZXRts3J4Y6/J\n",
              "q56VtuNBLqxctivNu8LT0mSMgAAAAMwBn3NqQv8AeX3+EMox8AH6mF2n/Ub0qiR9TyWSXcpazBzJ\n",
              "8zUdjgQuYHr/81+ukA6MfqCiX+QXeb0BURfRQeEP1sH4ZBXEJScqtEAJpuwW6r/Tj387jSfZzptP\n",
              "pveIVTlyqB+j3iPeTkc7Zri7X7s3xFG72zkBCErdxNdkTiL/u/oyuyB9dWywL6IVvvj+/+oGZHAF\n",
              "Bv06Fx8JqkKp4d7+0XfRiWLkyCNZvu/SoC4rvrLdKK1hR+uDmiGEFKvYz1OwA1mABay9UCMVrmAA\n",
              "AAHGQZt4SahBbJlMCH///qmWAGWU4sKsQBD3zC0QVGL3oXM1FiTuQqDOcyhS56UOe8Czr9qUbYHT\n",
              "Nv4ZV5DpZDWwtxROcptXfSdp/LvjzTf/GoTyhx8KvGL6jwMiq3U7Mm11Jbh92XJRu4oSMAPu9n9w\n",
              "seoplaN//TzwDCBVj74Xc6N8GJw9wcI2OEmZa9xfTglePbhhd/gAOjqKdV5PxoGQayLtfkJ1NvLB\n",
              "/hzoaNEna1iejN5xZmMa7abPCOGv1nsFZ/+BNVZJPfkieI0kOR7zsFH6n0gl8iE3+ShIXcEei7MG\n",
              "YovQPUtlntfTCxKiIEMIYKYoJyiYwtKk6UVsTzy7r8SBMQtstHw9VKTWiEn7bgjWI9o8aG7XoT98\n",
              "04fkxY2omAR1d1yCgLj2V/CdiG8xqC9ntHZM49Z9VZu6LTotS1qYGUtlK2C6oNwJIThJfvHoj1Z1\n",
              "JOH2AvBmXI74WTDCl8HxZrf714j5M2h9Kbscniv9s86X5eyHRLSDEjOl2e78efUD0EcQNcTGQmTx\n",
              "3zGOm1HSP5EpgociXR2hf69kfzhYt29fBKPX2fWOVfKO6SH74AbWYV1j04SXBI4RiPXSl4HRx6D0\n",
              "gQAAAJ1Bn5ZFFSwz/wBYk7AcC6afurFs0ahKsozUFJF0agIpACavUbD0c/sBfWOom6vqNbNuNOW+\n",
              "xTTll++dQq0kbApWalkOKzJxjv2L5kNkrJsFF0Fek67lMUuGIPUvHbzc0mkwWI7cAWgWVRW+wk2K\n",
              "Ym++v8tdQN/L7uyqKDVSP5c+3SAiSaHGz33xx2aNn2mV/PkhBKrL8jmm/hJX+9EIAAAA1AGftXRC\n",
              "/wB2tW+y6L2ACH2oK9kDlZrAFWiHjSigJE5SDcmeVOn92ixzKGlteE3FmrWWWxA98r6mxAhrKpfl\n",
              "PxBh0bm4zj+AIlInc/11xhdo5cEFG4A2pM2PdfKq5JR3Y6HxhfzfZTBQvSwrFZE4MdBBSQNrqFCm\n",
              "XiunZKRY+3ZSTqactb8aNteb42CxFZXzNMwA43XMsHshV8HxjPC0esFJsA0lixrHp1i6xEx6UCe/\n",
              "iNgXbfhTeUfGDX5ILUzXIBwoVNgSZ5IybjH/o4KSads8060ZAAAAzAGft2pC/wB0EwPDAAhCyML8\n",
              "jN28osjZ8NIKEDTADDEQ+IlXeBK/tYKdWlMC+omgyL6hLQG4hUH46RZcgGO/9tFGSYya2MRkGwKm\n",
              "a0NPhmwb54wg43Zm/NvR//cci20QE3zLuxO87BGf/KN1Lf7iFv/Df9jct8iRmhqLHI+PPqSRY1lN\n",
              "/j62MvExjgUal/NcVzhX58Oeyyj0uIwzWXzQuDT1F5Jmmbou40+khuQl7mqQ3IP1t/0O4UX4YIQa\n",
              "UJttG+uf94AtVIFJMBBDvwAAAcJBm7pJqEFsmUwUTD///qmWAGeiuCaABxZXigfMJGA2XKSP1uYd\n",
              "XeyyU037Nzo7N3UPM/fFYP7q6Tniv7jNYvYauxUR5Ka5yvbrhjdddI+OTi5t4hGcXifDv586t9tI\n",
              "DR//nIhOCcst1wI3ppmJ5igIMJwS4qmZEw9CxHNYXSi2R7efT030x9XORUD0sDXhUqiZJ9cXLwx5\n",
              "LsdQyqoK89ROuNB1emLZLlo8lGmY6d2gRk6X2nR/kj+ocCg3Hz+HLzuPXZPFddN/TbrHtxUHNlWV\n",
              "9bXVQzRfiHz3xI34eLBFuA91QcevK585ucg3vPrur/4pgwnpW9kIwqUmbCOo0bl9Sq6pJE/0/u6l\n",
              "S54TPWn65xnRwuVIg1OkuPUX8R6JVTKU49qF65gxlSQ2WVCQ+1DiAqinT8lYavU/8fd/owJsp6Wc\n",
              "1me96LMd5eNLGqaXOg4p9muFJLdF3GPPjzdhJzmUpxfIuarFs58WffUI/vJ2s3qIqUlOJLuBruxH\n",
              "oErCZao3E/7sj1Rmh+cwhjCek83aTNUz6wuiiVmlkPHUNd9DTomVrCJimYlbECKQuik+nLNY1DwO\n",
              "/izTUZLAVFPq5z0j5E4AAADXAZ/ZakL/AHl96101AqAAIfKSBJUB8o/slPzs2FqB3I70EnDCetLl\n",
              "wDoMEDgU62osWIRebFnCtpaA+sDkb36iR8G4Xm4pcmUvIW0zwRq8pIBTsbK9Tfh0OLH5XRZ56kFR\n",
              "gRkVKuRtRfpCrlcqvczjJ/dXZa//2HCnBORRzRFBPOv42I1bpX1+YGwAFxjBRg7XsupK2lWtzetS\n",
              "f4H8S0J9F85m8puGpmypW754L2amnn+sKJyKcDklADY8at8gLBjtS6FlDOUKC8V1pn86K57MqPy2\n",
              "c+F8FSEAAAJGQZveSeEKUmUwIf/+qZYAaDzwUBBBBA2C/lUPsWa2SLWoF+bwJLWuWZZg5pcMRnOd\n",
              "AFljJwSj5SG9T1fpERT4YAk6gM/sYXGNt/4o2SxBe35NQuL9mzTy4n6Bfl5JC/0OkuoLKNoona8e\n",
              "kOmFVExI9KeZe5g3DP4RxqDbP2EUohYGmPZxTFlojSPPOSAUkwNkpXE592iuabzwe1l9q95lF4W+\n",
              "Xyvpsjj9PT4vqfr6o5OtJe23b+gJ5B6/7O5z6KTVUPSKjVNFtcS9v6hwnyoea3Q+zKH2b65FVPE8\n",
              "8O9kWsTRgowcJnWv0I/S4YZhK8EoT32erLXGh7iFCPEvkpinFAgi8ZsnMb3dVMTsXRTQr0y921e1\n",
              "voYW0TxnFdTWR4P3wkN46Oy/vApywzkRprA2kprWB+lIn37UN3IOoyanWBM5FYWrc98t34t2n/P9\n",
              "YtL8DDrdg4MuvdSm/h1fvZ3SRp6M5PUSUY5befOIuaLxevz59sCyhUnP/ioTeE1mXl+q/+fHibsK\n",
              "UP5glbkBe8E68UifK63fGK/u/YoM5kCji8Vvt4wnwpSnwBJrpkHLxQMipHNfEDB374COUfZtROEc\n",
              "OjZiT5Lqjm0xfivIxW+L1WaO6UqvzFjkGWR82Ap+UzncRdxl0C5a2oNKeaX1mMIDRQuaGU4hjSnp\n",
              "mNewTH+WbM+DHJLQcBCj2Jwf5KzAePg4v9BTVC0h11hLzAJxsBOkg7ZtlVRxFe/iapMWKylRUePS\n",
              "NOhVON8eN9qCaimdsPf12yf/840IAAAAikGf/EU0TDP/AFnDqh/oBGma2gBMmJjmEA3ZCJUakWYs\n",
              "ra6eOxNqR6+iOICd7dkif6N350uT1uJe2dsw+2Tl9NdINvnkn1UCjx7Ah9atMosuoLYcCTYskeA8\n",
              "7gYrEo7W4relDUHwPPxmI3wWrKNTOpVqFcabyZ7RXitirvgMq1+zDJlGrvlTMJ/EbQAAAN4Bnht0\n",
              "Qv8AeXXK+kbCNCWlxVUCHmqR4OKACEcTX4V9WqDBL8mj9O0Jo38R9RqGEeJPl36ryQhGeWubH5Bq\n",
              "IyKqiSrti5lmuTtQE2QPrtLr8bE0wWFyXp1GBNVwZBSQhqRRwgzjrkOwvFT0pXGEE7AF6RXb+Skv\n",
              "ntdtfsNi/dzmGuTFJrWVmS6st+OEE/4mNh5F9z8LDxxE98NZPtkJchPl1H240Tvt7Awqrc3GPD+Q\n",
              "Xbd/DPekoM3Z0a60BQefKKsfePGIixviQeT3MW9U1BaHZNX83VTkAMu3a33IJcEAAADUAZ4dakL/\n",
              "AHmS2wlxVOwEABCNrQRFsw9hSh+r8jTaXg48bsO0eLrHHuP5ODOMaeruQTdWeUYlnqFleJZ+3jGU\n",
              "eZ1SfYscSg/CmIBMv3fqVdMT757XbzXdxZ5qcpafa3e6rnX0vTrHIzR3l/tbhsTJGsOoWxF7zUPn\n",
              "VH6J/RngZTr7cLyek0UGBBPfCeEG6emX/tRPzzGtwHwHmNPxSN5LI1tRtCmKhXdqvEb+fLSWkeXJ\n",
              "W+jgJni7l/bpuw4lA2SP0nN7OrIRJ+I8kjLJveCbea/b9RAAAAIMQZoCSahBaJlMCH///qmWAGel\n",
              "74ATAlpV1AA3QVHqu1PKTQH0d4sYmt1KzLLQFVywj2LIX/9gzJjagtoL659nYqsd4jOCTEBkMtx3\n",
              "1zgWYhbT9xHP6eI/cXdUH0fzEH0flxteGM1gFb9W7PSyDvyfSGCu2Pz37HBVN4T+pkeh8P/hpRx8\n",
              "ZrH8FwygMu1LmbZ2VJOnsUbTy0FLrv/jjskEZtDNiV1VFc5vM3lp3Rp3WoI8bmDwnHZfZ1knu0n+\n",
              "iPvMwUK1JwHGT/60t74zaMHL/Eowlf+WB82I49o8AtqrccXm3/vn0aVrKHcJdAIJCgi9QztrY2W2\n",
              "Bf1yJ/ClnucSueKcKGPOaflzj+pRe0z/exlph9PKtBlLah827ROK+INtsNGFBKrJmmIXjWzzMHyc\n",
              "n9PbbbHk1uPruIylcnKYKiB7V7n/laSdCcZ4iFr03/wt3WtlC2wtaSWH1Bn8EruHBg2BnQ9ugRCu\n",
              "0iz60avjLgbRx7GOnZnn3CJ1i2iiRKUD6ksb/MP44BPkS9GCE1+Nn4PyIrq/d8N2kDf0GhT+1OLD\n",
              "G/PRcyiD52QNWlcxv/0V+iH3ZSDQAjAbFg6rO6sr5/2W6KUDJoERlPG86VNhMJccZK6hjiPTUYdp\n",
              "AZdDY/IUZDfnpElgg4b3TW3ry5vHKiIGlE6P80UzdpsBAtr7J4AAAAMAAA++wvH2KvgAAADAQZ4g\n",
              "RREsM/8AWJ/twHJtH2dQIYgv4qAB+p8U6RrCfBqElzkM4HWjcMThgnDZX3pxZEilxeQihxyRPUkp\n",
              "7B4G1cybvi/NOeYhpBLzTCsy043dZ/fiTzaplcmYxtfiM1l0EPxzWtVEPF3w02V7vX6sHAwYeRiT\n",
              "7QJtCw8i1zsoHI/i2jhu6y0UZApTiAWgoxpAYEqNj1SUkCfVzVWmihuKbLHcAENpeEqeHmRkEODN\n",
              "Ut3zdvKCMeDmTfB0XeRyr8FhAAAA6QGeX3RC/wBz9WKDAmwYa9+ACdKxWldhFeI5hs8oARA7NYnX\n",
              "yf0X4gPgnZKGpqHawdfmaxo54DUmAgqsd5CoRMMW+6KifR0I596lDtJvzKDgHO3Y8F/PI9Tr/Pkt\n",
              "uvvwfLfi5RhJ3JoGGJe3z7pHfgYpkLCiCYLSgrB4AjsnPS6/MdcR1e+qY8XpzJHdmhoAIdYCTeAc\n",
              "LfIQc9+PEkUy8mKdnKTOa9EvMzWkq3lcb2Ezf8qUqnmuYOmwPj6zZXwFulhPbA2MAaHIFn0H9k4g\n",
              "jzy2vRYuZ1P6RwdHFBWDSS5uzSF8EGsmh+L0AAAAvAGeQWpC/wB2gfCFGeYSeUmUzgAlq1Wu23p4\n",
              "aDmpAoAwyG5zFN2+UALOK2zWcsARXODgKGK70DWKKSJ95hy6OtbLqDRZ6BN/KR+Ty9NmM+SNeD/R\n",
              "5Lrm9N6ByeYBjd03pLPdUgr+CLaLqFzO+4IoH6Mt8CeFDbpRmFz3c2DHiXGWdQJC/Fc7mOG58LdY\n",
              "08pXRAOlf7hceXrNgdZncxgLRHE7Wzxovf4KkS+z3OMht8zTxpAIm8Hw8e+Q2GOHAAAB0EGaRkmo\n",
              "QWyZTAh///6plgBlIrgmgARHoSM1Ns4ruypfmGxLJYrE1JR6gH/xIUNFMJeAalUXo0nfNGDWqvPp\n",
              "V4zrNN8wlFEa5vWVt43G6amGabwG6JQ+l6DrLIKG1CGpV0wxnnf+Qp9ISRm/RLgSgLtobj05Czkv\n",
              "BJwvUk9rrBDzXXilbkwxeo3+92oHzGzsj79Au/J52jN1uPhfMgoPnnWhTftByQOED0IciaakQSBS\n",
              "D8/I9NinmtpuygxrxGjrr+m/p4cB+7YqxENQ1M36pEWFCd8TmntWwA+lwwG4Y6jYD7HejPYI6vMc\n",
              "0UFUv/3fFUAEv1wQbf7xo22gcfvmHFtBhQXN6mSVHzlhs7vttS7Fu8F2zT5TdeRsP2bLWOFfxX/H\n",
              "0LzelSXHsskQfs573PuUSYBJX6NKVLadkAy/XxeFMA+wQwcFQV9YiOajS3SZCMy84pf+YLs3BGGg\n",
              "7nxHHni66v9QRCGaSoi/+wlxL0ldtmdiNprdssXdHyV+bhjvpyLldV1E93Si+5bz0L0RRoATlm9B\n",
              "TSz619/n1ZTRog6hpGt9lhq+oL+vIKE+rEUuaGoqqh1X+QKvoAOOqwW1GMhG8RZSHI6YXN2qHG/M\n",
              "3qEwAAAA1EGeZEUVLDP/AFhEz3pmsSd9VbEWy52Xb5ACAGRh2aevfB+LduZJfmxnlvei4FFGm8nj\n",
              "pgyFGa+aArbjZt8Sm+46Fx7CVZfk1Z9q2ZepcBROSzVR/SnXpMgO4i+FBZy7/Ktjm7l136KpqODH\n",
              "gBprDTJcRqK36cNGBhwSV6l3A8SPS8ozmWBk9+BdWY5UzU2TlzpjlY3RB8sj/WXXTccGjCb+In1w\n",
              "kTCPk5rufcP2rVbgDLDN7fctGFx7TJRknpLa3ZA6BssMIka+yaXTN/CgyMvw/BvRAAAAmgGeg3RC\n",
              "/wB22GsZoV0p6oh1gBB+5atJQDyXNXPZTOppV0xzzIzNIqPQOD1s5JV2p94+tMGg26G6e7l2nAfD\n",
              "YvC9tcuo0WUCCUTdQG0UBaafIsrg1EjdKZXRHeE4jSvHpWzd7KGHjVk4BOXv0GRt85wrm0DJyX2h\n",
              "InAiARXHDFuUahYdp3MyZihxHf5mrKs/Gh+4yie/mDmTYoEAAACmAZ6FakL/AHbTOibwzqAEKejd\n",
              "XMw5OAqrUcbnFaNnU2I1QkYDJZM5m33ZKBoKz/IN6S9lKwCnVzSJa0bG611qdj4NdxBZ69dyX0KA\n",
              "w5vfrcbS5rlyUhNM9VVUagNibwy+v5e8jrRn9FdJ9yY5kT4S3S3HZLKSDsJDPxzfVL9l7h/TfMJU\n",
              "dvQtOINx+zJYohxX3VBsrNErZ/PVUU82DpgligUSAwULaQAAAVlBmopJqEFsmUwIf//+qZYAZTFE\n",
              "ZYj70RiFYy/jgoqewAfvZdj/PMF7FDkipIHgHZsvOrNHYDMVEUteg28qP5Ct9WbLFhrNFWXi573g\n",
              "rx+TIQcvqApcMZObLgYlwRRqKY0HQYngdGu8AMAumI09Qw1U4CsZmRaO6T6R29SF6p8VQD3b3D5L\n",
              "SqkBBBSoRXXdmbOFofid10VSz9kqpm8SO/0uInzz14/1Qg6OHghvayXCjKLXvgQC/s4UpC7+sw/H\n",
              "D6yE3HaDawBrxBevbwhI+kZ8Gbi2C1wfKZ9PuxKQLISBhoZHIjEMoYOGFLEY5xzgfzgrCPatezhQ\n",
              "Zc2ag1e3hrM2AN2eQ3Jp8J52HeaDMh+TYSfMalDIHIOlErv7h3B0t+ctNgTG86cHEJpRwn8nIwEm\n",
              "OzPGDob1J+p05FY4lGJYOdSTASdbHFlCB8oxJo0Vh0GwSepOqmmpJsEAAADhQZ6oRRUsM/8AWJ/u\n",
              "QQ7ddBvCmq5jixim1AADpHn+M2PRBPD4OkmC1d0/BufAEFRr4qdXq362L3z7Ry4B56CG9azL8EWr\n",
              "tnrFVwsQXbj+NDYzydE4Q7kSVAsm9r3LtSG5c4dcdJSok4ON1ksk2VVxjzpNFmJjoozLVDb7ueWw\n",
              "BQOi8CSV9OOM+GDXxelGbBPXXbcCM7uJqM4DBPyqV+aYWnrLbjZy/xoeAhHG7ydkZ0hAtyRASaaO\n",
              "gLBvX/XbCpbjCcg3ejjkssrAqO645ZPSDKIM4zzUvR9Z6uxWpLBgyFfAAAAAvwGex3RC/wBzwfEh\n",
              "Co7gAIRxHI9ypUoBfplfFFgQkKH3eaQ2ruuUCHVW3kMAzXjDq/uB0U1LXRRBomDoTaPg5prmqBzN\n",
              "bN9u/3PQVCKcVupwUDaJk9qV9NAPYq7r+0h0dFB75TqFt4b4MY2IOte4a/G4b0qdb1wA3SxVuGrd\n",
              "7r6BOIEhcXDQEhLozJaUIp/QSolWIdEJ6LT4DH3cUPrn6gK+wMeE5F4686PEt6sfknOQMxEKkyR6\n",
              "g+p8so+sRLIkAAAA3wGeyWpC/wB20vhopr5aTABqi2GlAVopN6T1xpwt2l1v6VtIXVV0JqEkVvyN\n",
              "Wn220wBk+1GhJFzVCbUD0y+B5bK+ZlYH/HhnuHEbr/CE0QNT0Vp1tn2854cL6LgleYAwGuqPF5+7\n",
              "syWSaCADzhAd/gbHqbXLYUDBlHdNijLz6ZRFaw33gsfCZwYU0GRpjVAb1xQJ8KwWQiUoHOnYQDKY\n",
              "edgocfS9fP2UPiPCDwmGjHbFG0I8mlZWyfbR8MxpMF078mIiyqEKih5Eu0qQPwk5QOMK1KzUI7ue\n",
              "Kgku2Z/SU6EAAAGpQZrOSahBbJlMCH///qmWAGUtCNTwIebOeIcSouCFNhWCLHoALpRBx1splR6u\n",
              "i7cHp9rhR32HpufTg6ML5FUORW/W+4DSgQnJlx/B6BsS93wvIKbVVQYm5Af4OpUhWgHh29O2kC6Z\n",
              "88Y+WhVVQQfZzD9fmRA904tUrkcLMZ1W2t0A0tkPXk3Gsz7jZlROavqtLqbT539DIU2qhK/lr40j\n",
              "jMBMKwX/8yYNsIaW02EqLmL0MLqmaDrlOF9Ixnm216SfmLnO7p4SUo+9a8qTJOusXHJk/xX3HjhR\n",
              "9nCFiZIiiadu4qb9yM6uHvPEbzAeerrkB/K6bPf5Qm4oejvVMYHGZ3ZftsrL81GQZfm+zMtL+kzW\n",
              "ssv/gO2fN5kt8+VPpAPk6HGVy8f+dgLpaQLZBCXDny1WjOXpLcw8PMK6pvM1OXWREMLsmZ3tw8JS\n",
              "jR48TejX4HdgBL0syAaYeSKCaAO8/esW73AMp5xyEDSdFPzTwlKr9PZMDRfgUzAc/QyY18gGsaUL\n",
              "fjt+iQZ4RuwLwfl8muA3CoS6cWxW+buihPWwNq0YAL0mOPrY0nwAAACgQZ7sRRUsM/8AWJ/1fW1I\n",
              "JFO4EeuBwfU36kF3L9AECqLNUspwt6j5akXnMKYTUIurIP5IUjBeFzai7eyxJSNrI01KeADo18Pq\n",
              "OfUZqZgdlXujph+aUzWi1RIkYkEQz6/QKaDhEozvFPtSA/eMtR0a+qUqxKe+JevWQnI89y6mx+L5\n",
              "uykvoftrjrcf0R0lr/Pqe13mEYoO9sJbDoTcZ/qkCAAAANcBnwt0Qv8Ac/Vip6CayXsAEQeoZqHU\n",
              "zP4+zdomJB5yttigIjOqPERE+mQMqESooSLqa/e8QqS4c6MllWeVIerxBA6YMmzCb08JcBSTie2h\n",
              "+B1VNzF8+Td2eDS/p8hOZgoq4fU46TizbVNg0BiC3eKFrf1+CVnuoGqVhRE3kyqtgbRALvEC3BFh\n",
              "so+WVJFVfk/95GezLH7FjIPb6+Ak0vZxzmOCDhsvLCtBz3JslbW+sSUGoTGE76Hnx20Me4kQmzhE\n",
              "VWdGYRYxhqU8Io+VHl58ZbkPh35kTQAAAJUBnw1qQv8Adr3rW6fY5dqgAhvfiiIwGBMIEj2W08AQ\n",
              "RO7W4wBYL44iGIkITZ5jWIKzAgBBKVJOjrkH5RxK62ixf6q2A1GNS+6JgSMNlUqKHq4yXJKJGtJg\n",
              "mGkDesRR3DrmOMx0fYeCFujj3iirW+BArW4wFgmRw7HleUhS5VB3n7ve8rk7dCLyjTtrz9M/o4aO\n",
              "UF8pVQAAAexBmxJJqEFsmUwIf//+qZYAZSL+l1AXq3zEpidSQ5BoebNlSxfJ4NymQQjDuYndFoTT\n",
              "uiiGnOktqf1LE9YzifE/y7Bo/OylsBsxTRNWhea5juJ5I83oD1v35A7nC6Ub31F8yeNgFb5YKlFt\n",
              "dy1NiXlaSINSVg+VF8PvWr7efU5Z7xMqdOx2+wJD4qsspd7VrnGGBQJholspAxUUlsdbtTdWJ8+h\n",
              "PZvzho5AOMIXHHUbN3qXIkTtGfrq/ovxFGyIl8AWjTIq+AMVSq6nh6F/tPqhj7F+dW2xwz0DDOeV\n",
              "klMmqPi/df/DfUTDq9skhKty+Cz9ggAtWLWEOe0JHpwkJQ7QrexB2zm4/LbQM4IJ1KISbvKvyxst\n",
              "8J2Bx+1M6tCqg643yvTLrZqsFeDXFGOp9ZiwM+5yI/M7cvI2dIZJW5foSul8B0YRMXvm3qikpnBn\n",
              "4o/WF7Ybhy+lQhpjaSsrdfo8tO4SbhB6gH+wqvxNUrGQr/FeGyZbKhO1w7/j/IjdeZ8DaXVoaF2p\n",
              "ji0VMUUl9Jzn10K6vIE877/Z9A1u0ezIjCbu/RATwdaK4Suwv9c2P+TtlFHr1Z5xPgXk4pO/8G8R\n",
              "gA5gj28pQ8hnuE/GEhuIHhQ5W39gDtJ7cU8VQHORFEPVv1zFH2LZPsbIrucAAACzQZ8wRRUsM/8A\n",
              "WF1/zuCTi9WvK3B64AldAB6wWFw51SXlxi+zh6aYYEh81/Ipiw2DKRfCufZGBpRNcWymdc/+vkNx\n",
              "CuhwknbfyoBUzLZj1OyA+AiRii3XaCRwDGAW/GtPfDCRCkparw6jIbb0JeAhADkIFI2kmcw25A/t\n",
              "0BJ4OZrZuOSqVdj8Ekq0HxkKmmh1xoAnoO1CtoMWeIre2ktsM21cXw+IUrwIEAezsj3cEF+s54AA\n",
              "AADLAZ9PdEL/AHbZVh8GnY5kLOABD8/sJ68XknQf0zLmtAsuKlxCeEotW123b/l/Ftzn3LpsHTMm\n",
              "iSAZa0GF/SVOlAiazGFtc2zPaMCLGmsyMLczUoJgw8cI1i/VfHv4Pa0cTZ7msvUkbPfg14QfUBwv\n",
              "rWeX9FpWXL9WyueiiytmZKzc2fmF3O4+il661KaJTDha2ep7zWyhMzDRvxXmne/XNU0DauMJm+cd\n",
              "T0hnOdGdV12ty0vbSykmZ90hoQPezvoUDHocSi4B8RtoZX8AAADQAZ9RakL/AHbS+FV4kfgAIgal\n",
              "DEIcq/rUBIkjVIsfbx6KFaPKJ+3fp+fogiF22OM+Wxw0gy2lH5WFxG+zHcSvjVd9aAHEwpgZw8kM\n",
              "C8XXPcU/4mGc7WBqOFONZC45EzUWlMGe0u1FrYnfM24VbkgsBuc4ZRzVbRXNZH3VGBFX7K/Qu//n\n",
              "8DUAKrqd9w9ayLKc03k0s0JP8D3ZjrBraKc50RaDBbdpp6OHP5c6t/Qk5vFAmFoNZ5aBI2l4BUkl\n",
              "rrDi6JURHkoTJTO1pxdNrcWUjQAAAcNBm1ZJqEFsmUwIf//+qZYAYrFIUmHwUxUNjbQAbVVIMGno\n",
              "run6LW02LOTkUwRdExX5ewn6GJjR5wH0Q/eWThbp1zPB0HxJBST3bVwTCWcAXsJ6Y6jpti/dk7G6\n",
              "Y8SbohQ2vsuK1VAoWSEFYh5JaBRZVZ2fakj1c0fl6ul2Lo4Hxjq8EXDixMA9R8i1eq0R31NlYnS/\n",
              "ImtdgRnKmzOgO91nV6Y0TDjCaD3BOi7E3arUg1oqJeECwCpqeoHwgvCnySMw61TpEmImbiC4XIHx\n",
              "fFv/uHLaTwesHsvbv0FGvsbrWTflhdVvVrjZ4rrqPP+sUemC3dAc1qU63VOVN4Qdu9pdv454njp9\n",
              "Wl4HMRGLMidhDWV+NoLN9ejwxm5gtcWw8171xWH/7gtwYe0xp5hi9DcfT7p8en811gAwN0acPfnu\n",
              "pN7gD8wpli+A2eUdCKEQxEJfHvYEDhv8o1gdkIMk1TqdI2uoC82BwQ3wNi916VdnJppV2XYZ/JiB\n",
              "iZvLqKM2EILqekGAuSzdtn8SR1AJ31Ktt4RlysTGewteHV+KZEBF5W0ryhFYB1YxmVe59/Vn8KBE\n",
              "iDbAPymCSbgUHXnLIxdftoaAAAAApkGfdEUVLDP/AFZUFOY+taoVE7QAO7wrxlr/aDaYXI1N5zhf\n",
              "mzmEIAaSZL00njaATPSnY66ZY+xO8MfE0QU3v3/WKrlDqt4wMS0g9tjwVresRFN6naEduWeLuei6\n",
              "rY/Z7PcRXHvtzQlKHsa/UEdmMFokQiIkcC3aZlsYsnO8TP2a+D/w1lfgYiaSR46dgXEJ2HxuIiyr\n",
              "rQIQX/8z+rBpDA9qq824p3wAAACtAZ+TdEL/AHQZFgk7ml1GPwJ2YVSFQAQHm6Fft+StN1r2aym1\n",
              "X6W0Tnm3k6d5bCaQBa7iiFcUn5m9PD/h5RbuKxMuLpTiZG1vKmFBlUjoRLKnPrV/7XfUUV+ziu6Z\n",
              "u0Gbv8kA1bcMACqM9iLxdMqniJKtM/OqfgT0LBdV3lDcPeAlip6o256bf2Y7EFWE34N3z9Yt3e4g\n",
              "2Ml07m4DPq4t+ftCwlMp2NQQIVkgI8EAAAC4AZ+VakL/AHEB7qAD+0liSjeADaDGF+nHWc+CttkA\n",
              "vUdCBfh0vvskYxu9QTvbdNK2RES7mGOXwMXxmWNZmhq9WMRu18MpFWl313SH8LUyTB4nejIhzQHk\n",
              "o7VD14SrvU7/YcES+pvEeirwUYYNdIUvooYTNLdLss13WKkJvZAgMUOZEFI9ePKoeRuAnBvoL2gm\n",
              "1ZMOWfuE2Gdv0QfmgUEH3cI0Lg+CdoKCOnDJJVIbTGNXkJHhAO1pgAAAAcpBm5pJqEFsmUwIf//+\n",
              "qZYAYqMgQafnnRf77qJ0WgAh+09oWcqHiMcGV9zOXmqkhQdAmGQYI/W7nQcArLtnrHoV2dQYqJFS\n",
              "GJlsNWuwklVOtUH3dQcRXAmdoyf+9xDM9Ok66E3F0hE6LD9tTE0juzMoYQIb7TgOQ/5z34VowJVL\n",
              "asBDwDYvD8EnJZi9WO/i5Jczh5LSLZm3Po2pqOQFolhkRvnr0CMR+tDTGk6ercgs0wUW1ffpRhHy\n",
              "PwrRQa5RCQY62KK4YgqSfxAJ5IjJCHBviaRtqWLykc6MnHmpvUMAeW2STXeSsB1ipCz78uKl3Sqq\n",
              "1O3W1q4z/v9BdfdTtLGKHZovOzGkSQX3pV6kqHvQsy1ta4moGih4C4y5k0AG+Ubaqx7E+KPrtlOo\n",
              "UWn/gBg9hOh8H9a7iipnzzsT2Ja+TXDkeSei/Obg0T/96ZIz6s55mEvB3CxqiGfqzOWV0XURDaeB\n",
              "Pq14YPfD76B0c8eGzaDLRzstu4GhACeWpZ+cFBFmm5AOJLOJB5WhdzQR6dqMbmh/e6+evb3+FNuJ\n",
              "fBZx6oxDC9ZR0OWL5WTUt5ldW7mmnKHRyiJPiYiXB7XGah3/EUevZqHwmTnIgQAAAJ1Bn7hFFSwz\n",
              "/wBWHVAXbvgvEE12Q3jCMyI8sIYm4yrkAEN8RrMxvtt9MlQ3pG/AFS9ampoqYjNETQ1kNVtT2N/n\n",
              "vKt8BaiCiPS66f+qaa2/S1wvSdU1nogCzgQeoz2gUaL0HFlALk9mHN64W5J8qPt81OSr4J1ieVam\n",
              "U8qt/x+/uAcJ0ie0gvB5LB0R9XbvzMGuDQGQoajyAX4SxcH3AAAAjQGf13RC/wByw2zMpYwxChox\n",
              "RgA2MKj+QgB7m2rCWGCqn1a1HX6GmCGcfTQOZIN2kcmS+HWsOFQIAipUErEBiZ0AxoST6blgUmA9\n",
              "qPHe44Js/htxJftC/H5A7RuEJCgZyVNQff4NChUxnEzz8hl+nMp99QgnhnNld9LKw4MbU5PPyNwO\n",
              "oDwmv7Oc8Y3vmAAAAJQBn9lqQv8AdBKPCzGhfnzXIdG/xxfIIAIOlhpLob8d3Hq5sJ5LGnGrA4cy\n",
              "7wOnRAaiVoy+3rplSvs/irHYa0wAORIv12NTRewoafCIBCUMOdfogLFmKPCvSVTrvpy+XDFpEicv\n",
              "ock+EpKtKzkRqQVH1xtrQcUq6EKRCaLaVeobMS4QYjk4oaOQqDYMsouFUxl4WHfhAAABi0Gb3Umo\n",
              "QWyZTAh///6plgBilqWqGDuKDrjWOGrZ3B8gedV/YdX8gAvVX1sypf6ln0kAjaGvnfX1NAVB1qRV\n",
              "Eh+WH93YdmZ9oncRtbc0lmjPlk9FrjDlO0PJEE3wRH5ulRMZd3YeFpY8pk7weIppNGW9rz4dCJfB\n",
              "PZtaJ2s8S61FBUyTrwIDP1JkqVBZEYbxL0psvvBfoN6SrZxOwy61w4xNU9v8VpQh7AyCv+HBfb1u\n",
              "LuaC3nQMTgvAcSPDD8eXKYa7T6XpmHJS/dy0UewLiGYqva0EW281aly7fO4oLivThRvemywu7RHQ\n",
              "6YBp7VTji+iDkfz700Y6RdvpA/Xa5xKA+i4DLny67rmP9YzgRa8XIkAXy8lQ04GxJS7jTNwskbwJ\n",
              "2mFXGR66gahmuAUhvsAJjWHKlJd9XtAVS/e9jYR/snG4dhXcbnwLFySWMvmkYDz3hZUhfSomQd1i\n",
              "dpv9JUWMuC6EvcelR9cxufB0J1eNgxFBeS9YQPRpNvqvexuIodKa4wPbMkTcQ4LgAAAA9EGf+0UV\n",
              "LDP/AFZgGps+jQIQ/jV3DZWqZggBBOf33QxVZQPBOUededXxLm6qmbMShEmmHL/rFUmN05r+PiNe\n",
              "6sW9wJojltNPuzjU23oGo59qjOhOD+5wFGD2AvWzoyz8fbQ6XpV/jdExb/UIhjPKEn81Ru9MM6Tw\n",
              "NgK2Uj+HO8V53VOAkTIgKnyvAcz89upgrKpdmTJK9+y+peVf5PM4AlJkiVa9rj8Q2Dmbj0RAPGid\n",
              "nTa2OdFCJM4k3yafv9YlpvP1n1NigogxhiPV6CZpftQ+KzTZ18jfUXDTz5DMqS5gKCMXWk6hkUk3\n",
              "OMOi0V3kHatbRjkAAACIAZ4cakL/AHP95ElqIVyVjRZIAQQLIOuC6aT7iKrzbiBAUiSl7YGc6CpB\n",
              "RLfaXmVV5CDsk8J+Osn1rqrOCdTaxPugC+EJt1q/8FloimWqgHBicjMv4FDtCWLdxp7ic+wRnB1e\n",
              "kdioIuIOvtQkb/mbELmbFKZm0MI5f03zqDVV72vW64TnWkEJ1wAAAeJBmgFJqEFsmUwIf//+qZYA\n",
              "YBYwnJzl539NfCa/HXHZJ6ABdoG689rVJ6trm9t+InTN/ectzi4CEjSktVZOJfWrfSINlzyNgVig\n",
              "s0BsXf3P5VSDpyV6WGaLvVh7t7t8DF67IrqoPJa2KjjPYlcm1+WhccT7SVqT4OGJTzijrmRfFy6W\n",
              "OpnCwDH1tq74c9UTqn2KI3+H6Zt5VmId/CYTEWpy6auaxe6OCDcKRk39GSQJwRG2HB+eYtV/1J4o\n",
              "bgoMRG3QG0rbQj8amVlwhx8Ts6SOGFnFNnmqWy07JG7O8uk97iIAFMTvLGt33/l3oLoW0k7G6CRz\n",
              "3xURRRVoPfz9jtyg9VvZGItl/jxYbz8ml1cnU+jfulJFlvxdR5HSEqMRDoN6WeFBQym/9PILPbIM\n",
              "a31OAmGwiit74gXWbOAWFOMv8sj1NTIxDbaZTFcMpMeCGGAAWVGozBngMEjM0Yl0d+Mjft0hxeW5\n",
              "zcXap51iTBvw+oJzl3XSPfGwT1hDYE08LReFsKwXf0jdV7pTr2JHiVLq4CcMazs8LW79CiHVDdUO\n",
              "WcPPfFLhyXl8AJcWNuuhPUOAmZIj1O2MVcjANjDWTJC9UE7FvJbwLPGU7Z/e3EiA1f7sU+1ZVX3L\n",
              "Y5MdSLaW1YO4cAAAAMhBnj9FFSwz/wBUHjNDjSc1xBvNf5WQ2t6jBnaASgA/F1OocXICFHX0/63t\n",
              "8OIeyXnXtWcj47mYI8EyhLzm3M5oIBLB8NWALyFU4ub91sSJBpDCzI1BAAQ6kBaSLNXd1CJzaH6i\n",
              "Ms85rL6aXz/IhEEQUe/V4sseSeeVUMLx810qJ9RtayTTluWblpNsskMgam6t4Rtsby8KQQ6f9NOb\n",
              "epX0D2F0EiY2uk9s3WPhP5k3FnaCYjfps/Lk5BecUKhqlO158EgVIb9KgAAAAK0Bnl50Qv8AcVkl\n",
              "J2GSPuncDLuWoiCmsiADagCjy1MBd4E4M2V8JR2sMs98MFGgE/pglBJAElFPC2lls54C9aOrYSd4\n",
              "vbLTioZcYqPVE85AUht1K2P5g/uFwslrH5JDNjiHdtUODJtv7mTTbvB57omT2z9RjZ1JtnVKO3rx\n",
              "KpzIRGf3N+CNEpQ19xL+n6Au77ZI3p+o7WwTBtWyQnb0vifllkklWqYBMsrdbZZAgQAAAKUBnkBq\n",
              "Qv8AcT3IEWigQjvgO37b53nI2kyK5IAQLbRZO+EyLME1/P/BzKgtC+f+Kv23Jt1VwJ7s4XBg8vY/\n",
              "k6e7iLWW8iVLQLBonJXLvYzdLRo1PdljsYdaln7Mj7vLoUYvqEuXGR+3/NsS4bfHTeLtVZV8rRsy\n",
              "OTITYvXt00tUIWjwa5sZ6stqoGvaRoxdta+xS15AKL+4iICDvhx0y7M7xNqBkaAAAAG8QZpFSahB\n",
              "bJlMCH///qmWAGAtGoVQftBEBzyx81+oANXy9SduTRRgcR8qnrMkrai6uwkVG9cwcrjbuIbiqFDa\n",
              "BxE8bAta64TzdOZychqcrYoe4W4rSk0lbUbPWn5GYJLsZymajbVxmsDiHLch2Q2MD0bdh43f3c3+\n",
              "e3l3qreTL/4q9SlBEv6baOPhlrKfSFBIzr1H9+mN3BcWkSYU8bIqiZJKDZt4efCrF+C9dhnSoUny\n",
              "t1U+PemaOkiUOzPZjEks8M17P6x8AWoWDCwAZ3mJDKd3m2uKXCmvLpbYay3KMGy9WLzf2XEj1q04\n",
              "F4HMITN6GBgU9K/2NqsAYp5+93XWNZopoLbe3ce4sQixU869g6HhPfls0X0nNhfMuuSKoeH4sEnJ\n",
              "8CFUhni5SpkeGPeWfGGIJfuCVCTZgLE9Blvq0eHC8jXjZ3vRtog8kkOB7tJrmYwRPlB/F+H0TvQv\n",
              "vU7VCVIOIoRMj1nfLkKV7lDMo4QJ9JgvuVu5LTLqiWyO6LUIGgbbSvkBO8g1/x4qqQl65RIwRbvd\n",
              "xag0wkwUU/NOty41Jllme/Z9A7V0fjVPpJtOvi0pnINmwsKadmXBAAAAt0GeY0UVLDP/AFMULMo+\n",
              "cujBCHelWxPVNcyQl+xkUAV36kW1EsYPmHwE+ybOlRAWf8NEWQimFGo4sk9rtfNMM4fC1Qv4nucO\n",
              "tbXHEmq18lwuIDsaMaMw6tpByYT5CycuvB71WQMvBysxCZw52QO/gV7hYIzv6bRACWw2t1a+x7e2\n",
              "SbvbXyual4ghh77IhbdczGa/HL2q2Ua/vkzBVRYn2xFNqimeLVi6/dkL2PsECNPgn2pRy3nRYAAA\n",
              "AHsBnoJ0Qv8AcTFyStkpG6WBrgAQ3vIwelOBfuaLI81h86z/okCY/9CjicZ4fFXbjqAqqvdjGvFs\n",
              "tPeXTkSAwBq+3jH5yxGBB4OWX9L05xetyVqKunafxGywmdgAptDy+pVe2IcmqTPk6Wyy2kw5H/Gd\n",
              "c1lDwLFDlIdbIjMAAAC0AZ6EakL/AHE9++tjAgGAIxcgmosADajZPq7Zp7zUAoEHupM/O0RQyxbO\n",
              "y2UU+k3STFBU5qaZZFuEMSLHNOqryYvFnbAp9NbIoymhc2ChZ+Cg4bu+Z5oh5IE3ndsaGYiudl4z\n",
              "9/DytfChnn8XIGtskTC2khrrA385i/1ZDWLDwXUmqyiPv4gufHvuLsSCB9VA/WgEhZL31FCBzVS+\n",
              "YkHlnUedtLT66r4KWZp6eQdJcuL5+JcRAAACNEGaiUmoQWyZTAh///6plgBdwR1mVB+w9QAUy7rF\n",
              "4OCWSCETTr+VNnXQRbYLVEPyesAKDnYmKHNMHl0WdDelrgs+07hVamAILxzqAlBX7G2spsjkmwEI\n",
              "aB2kV0IqA/0n7eaXERQfMH/xVETQWQMulM6dMtVt03eO8z+ve9YlZf61HH0PMRp/+EP8CNsU4c4A\n",
              "o8J4vjZPEAJw/nhJdYUR248Ur2GoFdVYdaQkbmbMPrz99ESxJT2d9ep8Al88bOAxWQB1SFcKZGYV\n",
              "ToSFc5Ts361tSScqecKNbQjaHGjnkyVaIWV1qjaYxw7Vdt0J02d5wDWYsL1ZshNMNQuyvosBkyua\n",
              "uT5pEArlMPtg2TW4wiqU4nJSXdifj6IJdXl6FRpo+Zch/0HmHJAdN77r6WfetyfeWYHPUUf30Qji\n",
              "B+nCQ1C1l5mTFeg4mBbOy/rv8Dm9czQ3faPCse1q88nPMR4+hLwC4Gm3cAcVvQsmNtLiDgtGlK4Q\n",
              "UK6DjxLfBwmCNlIK5nKJMqP1devAYYbNjPYbuymc7hXHiYNNSgOeT41H8HaT97CWdEyRR5W3cRV3\n",
              "i5NfbbTxcZZYRo2TtWkI3iyOKHm9QDx6SQtfQrAqr2EQhqbdyrCnoZKNBqvIZTIqnIsLawt0znyB\n",
              "00rWDlCKIVsAEat0CYs+xyjLpy5jfZLaYdUx7hVyjSSjSG9w5BYKO8d1Xe4O46zuCm2Gp3y3/hBA\n",
              "qFBDdELR3iBUHbkfDYnQOW9fLzCmxwAAAM9BnqdFFSwz/wBRs6a9tQ+g9SCgG6wvdNZBuIAgAbQn\n",
              "WUZ73gg1pgF/rl1BrEEVAHOBWH4HXh+1tzlXk8EGKp8nt1bTkeuoQfPf36K3gIr/K6YcX4O8IylV\n",
              "YD3c8wmC5eyKNXJ2yVi9PugjBbxdYhlZyWOlUVUK0EHC7fk8LVqvagiR+7yj+ngU0hAxHD5Bb4p7\n",
              "w3CtuZO4smmoOt+lBZu/G4THkMMVQ7ju4FOOcnxN/4hznVSHC66CkuYCakc1kT1CtN5zpekUamzQ\n",
              "QlVtueEAAACBAZ7GdEL/AG5UQ8cP+sgvENRu366TCBsG4QB5FO0PRLbgARA3GH4+JpdUgrzzXJoz\n",
              "WDdaiWvLxUCMKa7OTPy0XD+dcebo3Bq3regJEEYMFQ1gIsTJ6RXelHKqCFFJ/GZEtY+1CsBuebxI\n",
              "sxAv/rV7AFWL46guGI1reJxCejrnIDPgAAAAjgGeyGpC/wBufEo/BO0XKFpDCkSyzZIACEbbM6VK\n",
              "SAYHitTNwCHFuFp3bBAybZDqdhxtfUcd7QfL7TMdB8N9W8WfUIPOOpOk1FWqgJmu08s1q4kTL4xj\n",
              "lygQVWeaamppPRN/V++3yTQ+g+zzb7qdE3O77XPPjl2cZPkKnh9pnopnjxSpbBH9uw6YMNfBmkAA\n",
              "AAJBQZrNSahBbJlMCHf//qmWAF20q1vwstYYa/UO/fGQO2cpfS4e1vWzn2HUdVoANxL35N+uxobi\n",
              "N9bD+u1WZ8vsiT8EtMgWP/T9tbJjZrApbMTz9RsHwoMExIeLizGmJgXHfp4cKkEwVjzzFaiHMVo7\n",
              "KA0AnATsZsxo8VQVkmLKo4PPvTvYtIiSRuzglBWWe1mkU0te67J/lpvx02gdEavhnhodGoAHhP9z\n",
              "ckrZJIeDQm4kys8TkOFTLnOk0YtehrczGMGFl7CMZzbyneBWfLupY6RrOUYmadc9cZRFBj2+La5T\n",
              "gtBdM64aljzpGlC1/lm5nd+O53e3z63Lc11WMVePsSirZnYCNToDqZw5e8iY21kW+6eH6fcCc175\n",
              "JTqocAB3IfoPPTxVVsGOMVbCDTQ6gshQJEg6Rb/6rRk/ZgddDawHbV5EksM0xQSfkMsfg2Ed57ii\n",
              "XaLJ1nBEhOnq/wuUI2V2UopNweIwU9UDXNuaosbm7OQkriam2CKZkeiSSwz3VkoAo324f4V02UIO\n",
              "NEdw3L9NAyH7zrEsnvXRSntdNwkQA4gLNh6arBONg9OLaSstWRNSau5ZjuIQbsHcEpWOa7GQ/Ptm\n",
              "Lyj5wmnxEhU5omK8Ns8qKe7ngOyXbmvCunimJ3NnI5Vfm8/hrH8bo8jISCOVgG2xFkyge+vAAbE1\n",
              "kmXzSufcHLWwQ0GUUb2bNKaniRTdikll4luQQeUEfWBrN29aOY1P6nEkgpv1t8vURJru02Xv9Sob\n",
              "OFGR54ejYjsykQAAAMRBnutFFSwz/wBPqQbjB2HqxDt7EygAlGRn1ZrhplvnWPlD1cd3n0VAp16f\n",
              "x0bLbrLWSOUxtIekd1x+auj/0QJ9OROXovvOEqh6YmxF6BMf7d5s2qclfm+uJnfyXExAw43RUqwh\n",
              "/QFREgC8FsCPsqEUsDm7fDaNB+eZ48WsviTwUps8IMeqLf7/rWyfEE6fxwWCRltVlTxIW5MdbmfC\n",
              "k6SQYf1XdB5XM8m6qgsYCPcGAOlkKQ65dLQUxxhCcSVimMPzemNCAAAAbgGfCnRC/wBui+dXn+3B\n",
              "VQwbTDz8Rx8ulhBgAlCkEjYseM8/EAwLeQemzLPGWBmkLHdnf/8+bN322Ro5gtjpKQLguDFkc6V2\n",
              "naSeO+7Ff5fiIXpglNOIyfTaceUM4Cxk7UTWtM5ax/ZOVH2MY53QAAAAdgGfDGpC/wBqxTmg9yYG\n",
              "CjYZz4eIf4fAHAAZwogIwyVlf9FglNraW8Mrt43HGl+8QBcskqB+qiUZoMbve55k7k7YD6qoGLVR\n",
              "IDVQKDnOr6asdVwhCL6P5b4cea0q1wlHVSLwO6U/8zPFScXSI1vYGwOqxNeCv6EAAAGIQZsPSahB\n",
              "bJlMFEw7//6plgBbdGtY+LMLYozf6I6ntAA7SPj1/kgm2CQvbbpvgxmwA+IeFZDomUq6P1SPt7wP\n",
              "5dvQObeSVVLPMudE8jTHz7QnXdVrgaLqXeM1228aq7CM63c47GSo6Kypvc0Ht9WVZEyBqLp4aBib\n",
              "pY9zLxMgHH8rKjoo6acNeq0dehROPEWSq1L04kqF379w2ZkKFsXVehsFpPJio2dvFl5hJSTzJ5Id\n",
              "qmgieTva6s8z8xzppu9ACoQ/sumqeh1RnWmsfr8BKSjcVKx5uL2K1I50XZpPjy4H9L8ccHfmc9vy\n",
              "4NKWKb/QjIyXyR2tokllbJ500/zWZXsBsl8T0wcOnvWM1IfwernqxXLu1G68myjZjSFd9YpUYcre\n",
              "hdzHJ39nMhnfROI57RUPWcT+pvmCrYmgHAf+nEpTc5wIZcpauPjf3koGfhazp+bFnZiFd0bBOGHq\n",
              "TbH02NjHXg1H4okcSA0FoKsrxGkyxEA05HaPJ+WKD3RQPINMZqbaD3CkBaUAAACqAZ8uakL/AGwC\n",
              "40Fpd5bna03um/v9k0WWGgbUngBAUCKSRISn4BSD0xWeIYGrIoNOEXQ1pwh3GSxzAv2No/XbUzxE\n",
              "VxDwmRjWpcyZL8H/9HoFVACzdRvzea6Pd+RhG/Cx41wvAFbgvQmRkUX6N/2CMs0q6JLM2osMZjWQ\n",
              "Q0HKGg8FPEGns1/nmxPXVk2fjzfiz7wJfYq03EMNsV1ASnF1gmNCRFjwfg5zf88AAAHOQZsxSeEK\n",
              "UmUwUsO//qmWAFt0a1uGb8btY1fv0uWS2Ug5ACVbAgIiIwXmQiXq4AetF0wwgnv299ozXYRaEW/M\n",
              "9evfIXDsT9fB8p1zKkfxdP/+5wy4ifacUy6NNvuYQb2cby3tKoZyrrkrtuax1nIdu5oLPL24HgxO\n",
              "hNcJhj86XSnc4XWMUb528wrN0byRMkK3SMJJ+NFJXMoluhBx1d2fgk3rQuwxorc5QYucAJR24Men\n",
              "IClJNwvW6snsLdIzLMoOhEJwwZvUuRuS3v3ay14ISuGkonUNIFkq7zendj+9Ibk47WU4jraVZVJ5\n",
              "u4vx0a3YKHKCYhaR7AdQATlUKoLF2hoaUl8Rlws3CeQlDvGpwxKPz7KCBovx2rWAyC7AF0mH84H3\n",
              "+8pUZ2Kb9bKUV+CqtxWkY77UFTwUz9hlnmiRpglOCoo6fUvYrcmUWrgouBbas7d8e4Rwg85WqHR9\n",
              "vBuYa7upJsGdZwmg4kl+cqLDElPRXmK/2rxrybn7vikbIY8sy7Y6qJNnTCeYykyOHwAZaGsR09mf\n",
              "GLErRq2+iRoDXy/X2j5qVNUroKr8+oQvI2LLrvxOM2Cswk8b42VMBvqxjtY9YydREMN8SKkNRNzA\n",
              "AAAAhgGfUGpC/wBpfOUX1dbUcaTmpdxoAECJR0PrjenvZX6RQ6Nh8xdEfrDTHW7WvG0/6tSEIE3o\n",
              "v+2FcmTx9XHhRGTUC4p8wZWKQAXosAhPFHSx3XagBBh2kndE0j1hju3xM1IY/NJkoDpSEXdUNE5f\n",
              "6W8socKLFjvUuKUSBwmlG1ctqmEMoFWIAAABF0GbUknhDomUwIf//qmWAFb3B0/kAgGlkggAqT4Z\n",
              "EmuCw67i0tK3hPowAE+0mEhZWCrPHinlsSvEn3D8BOX10nS98wo9PVrpdAOWubDbYP+gxVMUQHBc\n",
              "Rs+wOx4g7WU+7F+056kbky68TEzQeMYFbGmMJEDwiMnA4EOYbrZIKlDL42MDsox3cVSD87JJZY2t\n",
              "pTkq0brmaRNjnkH0YMAGatIZsQjg9r4M0a7pE882VG9aYmjtgIo8UDriSF+XDkBmCGX0Zcq+3OLG\n",
              "eq23wn0vQj+ZhfH2siF8iJh+cMcfitsq1klNAAhNQHs1tZiqQZcPBrR+d1sM8V1eyBK4z/nL/SDx\n",
              "RjcX5og6y17JIVF0odt+aaZ8YoJBXQAAAadBm3RJ4Q8mUwUVPD///qmWAFb3M/v/vRHrRWaRvtql\n",
              "nWSFtgAynvh4t+jwog9QSFbnEJ2ev4TykRYq3PAB24Zl0CifbhndYn93y/D8CqrdNzY6LvZAh8yC\n",
              "dbkikeW4SB4HGM585gqKTuuNFbLpdHBGO6BMaVVCuWX6aH2ubOh18x7zpbZs8BN41XTU+53hVO9C\n",
              "bKG1fOzmcXTGsHAYl977xaWn2CXozHxa3IJQx4KLyLRH9WQYSaodDoT+FzQTT5aG8gqxwmdiwefj\n",
              "SLyr/xgCQAt50ve+tV9X//yR2ZlpRkiGKsNKasB4fGVHW6RHogbhLMY8FwegfD0sKX1BKl+zRq1l\n",
              "FU8hD//bx9pIQKXurlvZmD8k/UzSKaT+K8IqrwYSV7UPqy0hO4IyGcxP/N/FwYc1I/FTA76CKMSJ\n",
              "81q8M0dVM3U5sHnMm+hsqlkB4UmMzdHkqGi/9BP5OZ3EMBQcA4ff2Xxdq4wqGqZT+sHFLEHhybSS\n",
              "LNY+7rnJW7RMUWCtAAgdLoUWocNz/Jy77vtrTEazFivdDgfW0QMxc4hapx+qUcWG2YAAAACRAZ+T\n",
              "akL/AGbMDli3DWnHAOaQ7rLkCmEb2DywtHACEZqhsRrCuKnwKYZ9Cbj2a/RvRFUeVNCuRO0qmK4D\n",
              "PinKJe5TlDjNb+EewT/FsTym9K43i+T873iSuk1H9avsgp7mwBjqpWDbcYMm9EPCF/btBcmo1/DE\n",
              "YHAFYjc+XRPd2KCEbRb/JF1SGoWYkjEYCOD0QAAAAalBm5hJ4Q8mUwId//6plgBUxU6gD9GwN3ae\n",
              "RadQkBZc4f7wAX17zySAGeeNUZ+rUOWq3x/+jwKS0hJeOU2TxZvaWS271gxrIxJlocLyYODvKy4D\n",
              "57TuYWVpAi/SBqMz2igOBWcL8I63bQxYZjkCyeTOL34Vuk/aTecwSpJM0elZMUHnwO8uYFKsfqCj\n",
              "dUT9YRvJGTpjEm31YGKxv66/Tc0PDlrdMjOKfgOOTrjHZ8JBg4NSFwaM9FCvs0ZtPDKX4JcMZKSd\n",
              "4ypd1bqK7i1dfWrL15pHJWBeJuJzs+k9BKgI5uk7acKHmxY3E0FeI1O5jxV4HqHu+YCP7fdZcEmt\n",
              "ldkRueS9Dmga2oZty38kZq2KX7zluyCtVvbGQD8bkuldlPfmUEGPGa5CKJ2wh1u9KbL/irEOLLQV\n",
              "KMD/cQcmPbhho2n9hlMwL2XHKieJwwZ5lAUV9g77UdXk815hKic0Btx1Teo/7SoF7jYRGOY2o6Ft\n",
              "R83P/MBVE6YLNnE1lr23koRygqDL3JQohpSVrPm7PX0f6l/ewvlo8J//uu3r4jfCXooTLAKYBj5s\n",
              "4QAAAL5Bn7ZFETwz/wBJX2EnSvQ1tp6ZzJ6FHkAEQaOBfMTS49lQ6Grb5txaUuHn1OsmOGcohlrG\n",
              "HCkxE/P+cxNgWVVKnmd3WRjTVMyKogmI/9iWWU0kBmnykHzuAiDdJtjPhYFnqADQdXxIwP3NxJrK\n",
              "J14iIFmUx8hlTX/noCCqQMX1lvGMfFCAZsy0WGzFRIUe3Aa8yQhay1kadnERGmjuZMrqSqym5NnU\n",
              "6KCEm8/dHhAnz90r0VuZHRVx8HJm2U5AAAAAagGf1XRC/wBkeLpqWpsU7KmjRLzQ5mXSAEJk5THr\n",
              "v5sEtH/6xJg8hYEj4i7EQEfcYBqSfCCqbD0VonKa3synirjFwtMY4R7Mp4IY1+23aqFAFgHDEVkG\n",
              "Wv546cudINAFWzFYICcS5RZ7tFsAAACOAZ/XakL/AGSC+OTbrdp3NxRCQh0AEQciJQMWeQQb5GOp\n",
              "Ps/5FSC0EYjDrOn1fz36PpxEUt6b4bNqmMcdlZqm2uHrmsOuKRrMvqPr1oSViSM9REBuv70EiLFF\n",
              "HQufMb9s1tnOtqMJoRx2XmsrHrdaPV3rtplv9e9AQwg1Y/qfOxCgT/7WErm2NEIPEiSliQAAAWBB\n",
              "m9lJqEFomUwId//+qZYAUpiPqrG/ms8CN33G1mgAZd8IrVdU3C1qXv7n3hLcsePQ9b6aRlrQICrg\n",
              "OXsMrdRPaffnDJfzZUyMG1LZyyO1l6DlwICdjymKk2wGZJiT2KVWXwJB+OQPnpv8gJZqL+QTzVDd\n",
              "AM1SVc24Rg+34W5B0jYms3noVX0BgGR8oslXI4UiN8ZJ5gDip+bbh5qqaubI78UIXmLGJ4X+1QL/\n",
              "8ZeHY1jQWPLQZaWeCiOQ1rRvm8zM27e3wVNXiNLeTmaX4VvGbPFvsel6HVxey2yihC/roxrWIsLf\n",
              "4cWGabmvcCiotjthaVsTLf1nHdGlhx29U4dLiiol5bnEZj0ej/LULXWqUOyS6g1FOk+i4CtV/hzc\n",
              "q+h1zC7mOSNZNjUSe0ghB0kfA2LGdLOnJnqzximyyo/hXMOfQw3Z0fsxRXZ7gI5sO4NtF8pZgF5U\n",
              "6RUJmMJenfuAAAAA40Gb+0nhClJlMFESw3/+p4QAnqX0FPtF72tSfTb/9JrUWgApRMPCKW3UV3DW\n",
              "hfPdrUR/ePPdAkL/qQtd1Bonv80N7CJl+2N890Aq//0hkVT7disinTdrmxBPrl8gPwDLlg3ojvgg\n",
              "g3s3ZQt9Ym6s3v5jBhyGeFpuA0anNi+SeAHpdqZk2zMHYtZNVpZjvVEwMQTEzUlrShRWZxUSH/zO\n",
              "rOkR2JInLx0XTBIzjz1qXUbxQmBKlbtO088/Q9k0+2+/KCNdj/bDkfRoh5wCXV5LDxW3sUYeFJu3\n",
              "dsDjcWqggcKsPnthAAAAmgGeGmpC/wBffTZH1dbUDyiLngA2YZClyNoNWMvioutwq2OIyFR4O5Yx\n",
              "RUmNs3G4mwZX0LdAhcHB0pBPvKMsDRFPOqj63QdNpvUJ4IBXMfaAOlMOxozSm2HQolHPoVPFK3tH\n",
              "ffU7BRB5kwmv9n4flxSIgLDOZzKu0VYEQGQWmSNIzRaqD+ge9VHSKvqOKoUN01ohD4HEDneId4AA\n",
              "AADeQZocSeEOiZTAhv/+p4QAmqX0FPuNnz5mjlwhqA2+paQAQ/Q+vPaEuPP1++uYSwVccoyej5EV\n",
              "G+THTyT5XKQZPgoTdz5xsMgVF17sKt/BQZ3amHqT95QexcNCM1+hWoHTa9OjlB/etlrukamgKJ2t\n",
              "SJNNIeETq1TQo/BFTp43qo38VCq6IvL8rTP4JzwoDZnArAsXuu3IbihrYM8eP+OikDjy9/JBFL+M\n",
              "4VD/yKthclkI9HOCrxduuf50xNxCSub5ULfrU1kcEuci6DatC4fJ4iDgO/8DGbGKUjFzmbWRAAAA\n",
              "0kGaPUnhDyZTAh3//qmWAE4KNMUOI9OO8F4LHpu7z29oAFqgZ6YPhWVXPuhdMc16dQQ3GTTOqlrV\n",
              "HRRs/1TNACiWOrHf5OUw6UdwGTZPPXwxdLG11fuYWNy8KyewhDyENfFTPpv/Dpl+H0ZNdDYIaQ8V\n",
              "L35B0fpYyadtJaBfX/z42DwrU4G1uPpT0ttxe5bwSAHyG4te1Hkolx7EGqS7RbRte+7sL/adwnSo\n",
              "z4bloEg4jo+801E8yrfYvk6l651b06tyri+58mtqcBvvmuo/fgC8gQAAAKVBml5J4Q8mUwId//6p\n",
              "lgBMJ+7Na7kHhl83+6ABapBfEyT0/ErMYZyQ5tVNPVFZopfYI3imZt6tTHPeuSaW6PNpc9VvTGaY\n",
              "o38LgQzlfmNxaIIXsZRK4xlNfADP9haU2xSumBK33XzMt/4MaeBxgQ8w4FxtJ6WXZ3H0aCQ864rb\n",
              "lP1Q19zqMnGQ4rGSt0K8SyNZmBm+1Vy9A3M4yGDC6d+e86YW1ngAAACpQZpgSeEPJlMFETw3//6n\n",
              "hACSj4oZ/8gk71+9HoVaVnFgAZwwviKLO198OtHMxBncuQ9hXOxFihaQ8ISK6WoUJJboreMlXUAU\n",
              "SSPrtk0PA9qS+qjYAJ6+lXqc/z77/88bD+PZcdhVqM0qa2miWtJsocHPcTYMJnQCswYjJiFJSFXG\n",
              "BqEx/AK15vw8J0ntdcdb9V70fLgpLG68WSiytLRuZt/KCWz8KWkobQAAAGcBnp9qQv8AWJgeMZGc\n",
              "GOCAEH7bucxX+xblkyl5ZeMBSdSv0VoWqokyrneeLg3v3mSipxp3pNTSZk1FX0jm+Roft6EkNT39\n",
              "GE5NsAU9UcDIRN1wrMqRPExRcjNj7syTUDu6151k/pe5AAAApEGag0nhDyZTAhf//oywA1X2j8rc\n",
              "183uOYsA/JvXLI2AUVRPrbVNDj15A9n5M31bDrdAP3EAG0/UXYvxj+cUQP1Fuae4hL6SNxcPYrjZ\n",
              "K7g4EX+bZCI8XC0sWGOhmtCSUnWhS70uFaIjzESPpdctMZwe7gYGiKXwDmQl1DmfSuXANK0oaw12\n",
              "xv/bBoD9uP9CWB+Oocnnw0hunx5PwresSWWaXVRUAAAAhkGeoUURPDP/AF+NZqMyBrlHOIDEACYM\n",
              "z+WvpgG6kH1bZjxNwAc01zbScTs5e3s2VIOj56vRtdtQsAL3tIQajPx2f1qmegNq5Ye9oIdbpjEb\n",
              "Ol3eZW8SVybDSdlKCL9bdkph/qfoHldLHeLgd9YwzCDiOKmvjA1cAAADATCUtZlWc6dUtq9fAAAA\n",
              "MQGewmpC/wB+/etdijiNYg4gAwHM+tUzTvb+AlfW69EwdROgAHToJjZexyrCMYa1J7QAAAe+bW9v\n",
              "dgAAAGxtdmhkAAAAAAAAAAAAAAAAAAAD6AAAF3AAAQAAAQAAAAAAAAAAAAAAAAEAAAAAAAAAAAAA\n",
              "AAAAAAABAAAAAAAAAAAAAAAAAABAAAAAAAAAAAAAAAAAAAAAAAAAAAAAAAAAAAAAAAAAAgAABuh0\n",
              "cmFrAAAAXHRraGQAAAADAAAAAAAAAAAAAAABAAAAAAAAF3AAAAAAAAAAAAAAAAAAAAAAAAEAAAAA\n",
              "AAAAAAAAAAAAAAABAAAAAAAAAAAAAAAAAABAAAAAAbAAAAEgAAAAAAAkZWR0cwAAABxlbHN0AAAA\n",
              "AAAAAAEAABdwAAAGAAABAAAAAAZgbWRpYQAAACBtZGhkAAAAAAAAAAAAAAAAAAAyAAABLABVxAAA\n",
              "AAAALWhkbHIAAAAAAAAAAHZpZGUAAAAAAAAAAAAAAABWaWRlb0hhbmRsZXIAAAAGC21pbmYAAAAU\n",
              "dm1oZAAAAAEAAAAAAAAAAAAAACRkaW5mAAAAHGRyZWYAAAAAAAAAAQAAAAx1cmwgAAAAAQAABctz\n",
              "dGJsAAAAs3N0c2QAAAAAAAAAAQAAAKNhdmMxAAAAAAAAAAEAAAAAAAAAAAAAAAAAAAAAAbABIABI\n",
              "AAAASAAAAAAAAAABAAAAAAAAAAAAAAAAAAAAAAAAAAAAAAAAAAAAAAAAAAAAGP//AAAAMWF2Y0MB\n",
              "ZAAV/+EAGGdkABWs2UGwloQAAAMADAAAAwGQPFi2WAEABmjr48siwAAAABx1dWlka2hA8l8kT8W6\n",
              "OaUbzwMj8wAAAAAAAAAYc3R0cwAAAAAAAAABAAAAZAAAAwAAAAAUc3RzcwAAAAAAAAABAAAAAQAA\n",
              "AxBjdHRzAAAAAAAAAGAAAAABAAAGAAAAAAEAAA8AAAAAAQAABgAAAAABAAAAAAAAAAEAAAMAAAAA\n",
              "AQAADwAAAAABAAAGAAAAAAEAAAAAAAAAAQAAAwAAAAABAAAPAAAAAAEAAAYAAAAAAQAAAAAAAAAB\n",
              "AAADAAAAAAEAAA8AAAAAAQAABgAAAAABAAAAAAAAAAEAAAMAAAAAAQAADwAAAAABAAAGAAAAAAEA\n",
              "AAAAAAAAAQAAAwAAAAABAAAPAAAAAAEAAAYAAAAAAQAAAAAAAAABAAADAAAAAAEAAAkAAAAAAQAA\n",
              "AwAAAAABAAAPAAAAAAEAAAYAAAAAAQAAAAAAAAABAAADAAAAAAEAAA8AAAAAAQAABgAAAAABAAAA\n",
              "AAAAAAEAAAMAAAAAAQAADwAAAAABAAAGAAAAAAEAAAAAAAAAAQAAAwAAAAABAAAPAAAAAAEAAAYA\n",
              "AAAAAQAAAAAAAAABAAADAAAAAAEAAA8AAAAAAQAABgAAAAABAAAAAAAAAAEAAAMAAAAAAQAADwAA\n",
              "AAABAAAGAAAAAAEAAAAAAAAAAQAAAwAAAAABAAAPAAAAAAEAAAYAAAAAAQAAAAAAAAABAAADAAAA\n",
              "AAEAAA8AAAAAAQAABgAAAAABAAAAAAAAAAEAAAMAAAAAAQAADAAAAAACAAADAAAAAAEAAA8AAAAA\n",
              "AQAABgAAAAABAAAAAAAAAAEAAAMAAAAAAQAADwAAAAABAAAGAAAAAAEAAAAAAAAAAQAAAwAAAAAB\n",
              "AAAPAAAAAAEAAAYAAAAAAQAAAAAAAAABAAADAAAAAAEAAA8AAAAAAQAABgAAAAABAAAAAAAAAAEA\n",
              "AAMAAAAAAQAACQAAAAABAAADAAAAAAEAAAkAAAAAAQAAAwAAAAABAAAGAAAAAAEAAAkAAAAAAQAA\n",
              "AwAAAAABAAAPAAAAAAEAAAYAAAAAAQAAAAAAAAABAAADAAAAAAEAAAYAAAAAAQAACQAAAAABAAAD\n",
              "AAAAAAMAAAYAAAAAAQAACQAAAAABAAADAAAAAAEAAAwAAAAAAgAAAwAAAAAcc3RzYwAAAAAAAAAB\n",
              "AAAAAQAAAGQAAAABAAABpHN0c3oAAAAAAAAAAAAAAGQAABOEAAAD1wAAAVUAAACRAAAAbAAAAesA\n",
              "AAB8AAAAugAAAJsAAAHtAAAA0QAAANEAAADCAAABywAAATYAAAC7AAAAugAAAlAAAAC/AAAAvQAA\n",
              "ANAAAAHKAAAAoQAAANgAAADQAAABxgAAANsAAAJKAAAAjgAAAOIAAADYAAACEAAAAMQAAADtAAAA\n",
              "wAAAAdQAAADYAAAAngAAAKoAAAFdAAAA5QAAAMMAAADjAAABrQAAAKQAAADbAAAAmQAAAfAAAAC3\n",
              "AAAAzwAAANQAAAHHAAAAqgAAALEAAAC8AAABzgAAAKEAAACRAAAAmAAAAY8AAAD4AAAAjAAAAeYA\n",
              "AADMAAAAsQAAAKkAAAHAAAAAuwAAAH8AAAC4AAACOAAAANMAAACFAAAAkgAAAkUAAADIAAAAcgAA\n",
              "AHoAAAGMAAAArgAAAdIAAACKAAABGwAAAasAAACVAAABrQAAAMIAAABuAAAAkgAAAWQAAADnAAAA\n",
              "ngAAAOIAAADWAAAAqQAAAK0AAABrAAAAqAAAAIoAAAA1AAAAFHN0Y28AAAAAAAAAAQAAACwAAABi\n",
              "dWR0YQAAAFptZXRhAAAAAAAAACFoZGxyAAAAAAAAAABtZGlyYXBwbAAAAAAAAAAAAAAAAC1pbHN0\n",
              "AAAAJal0b28AAAAdZGF0YQAAAAEAAAAATGF2ZjU3LjgzLjEwMA==\n",
              "\">\n",
              "  Your browser does not support the video tag.\n",
              "</video>"
            ]
          },
          "metadata": {},
          "execution_count": 3
        },
        {
          "output_type": "display_data",
          "data": {
            "text/plain": [
              "<Figure size 432x288 with 1 Axes>"
            ],
            "image/png": "[encoded data removed]"
          },
          "metadata": {
            "needs_background": "light"
          }
        }
      ]
    },
    {
      "cell_type": "markdown",
      "source": [
        "Q2"
      ],
      "metadata": {
        "id": "8MHq9k8Lia3Y"
      }
    },
    {
      "cell_type": "code",
      "source": [
        "def func(x):\n",
        "  c1=x/(x**2+1)\n",
        "  return c1*math.cos(10*pow(x,2))\n",
        "def trapezoid(func,n,low,up):\n",
        "  points,step_size=np.linspace(low,up,num=n+1,retstep=True)\n",
        "  ans=0\n",
        "  #print(points)\n",
        "  #print(step_size)\n",
        "  for i in range(len(points)-1):\n",
        "    #print(func(points[i]))\n",
        "    #print(func(points[i+1]))\n",
        "    ans+=(func(points[i])+func(points[i+1]))/2\n",
        "  ans=ans*step_size\n",
        "  return ans\n",
        "def simpson(func,n,low,up):\n",
        "  points,h=np.linspace(low,up,num=n+1,retstep=True)\n",
        "  ans=0\n",
        "  for i in range(len(points)):\n",
        "    if i==0 or i==len(points)-1:\n",
        "      ans+=func(points[i])\n",
        "    elif i%2==1:\n",
        "      ans+=4*func(points[i])\n",
        "    else:\n",
        "      ans+=2*func(points[i])\n",
        "  return ans*h/3\n",
        "slic=[2, 4, 8, 16, 32, 64, 128, 256, 512, 1024 ,2048]\n",
        "simp=[]\n",
        "trap=[]\n",
        "for n in slic:\n",
        "  simp.append(simpson(func,n,0,math.pi))\n",
        "  trap.append(trapezoid(func,n,0,math.pi))\n",
        "print('num of slices: '+str(slic))\n",
        "print('simpson    : '+str(simp))\n",
        "print('trapezoid   : '+str(trap))"
      ],
      "metadata": {
        "colab": {
          "base_uri": "https://localhost:8080/"
        },
        "id": "jwIy2AH8ihCZ",
        "outputId": "805855bc-fa5e-40c7-c4de-7eb5af3780c4"
      },
      "execution_count": null,
      "outputs": [
        {
          "output_type": "stream",
          "name": "stdout",
          "text": [
            "num of slices: [2, 4, 8, 16, 32, 64, 128, 256, 512, 1024, 2048]\n",
            "simpson    : [0.8112005050070575, 0.891458706051217, 0.6471309989986372, 0.1516695322534012, -0.029324649401359346, -0.010682015536275812, 0.00012440007087462725, 0.0003062358876609296, 0.0003150462547031577, 0.00031556631081107006, 0.00031559836423725965]\n",
            "trapezoid   : [0.5787695694394058, 0.8132864218982641, 0.688669854723544, 0.285919612870937, 0.049486416166714724, 0.0043600923894718145, 0.0011833231505239258, 0.0005255077033766514, 0.0003676616168714891, 0.0003285901373261804, 0.00031884630750948545]\n"
          ]
        }
      ]
    },
    {
      "cell_type": "markdown",
      "source": [
        "Q3a"
      ],
      "metadata": {
        "id": "3p5crLx1rFOp"
      }
    },
    {
      "cell_type": "code",
      "source": [
        "def adaptive_trap(func,epsilon,low,up):\n",
        "  n=1\n",
        "  while True:\n",
        "    x,h=np.linspace(low,up,num=n+1,retstep=True)\n",
        "    ans=0\n",
        "    if n==1:\n",
        "      for i in range(len(x)-1):\n",
        "        ans+=(func(x[i])+func(x[i+1]))/2\n",
        "      ans=ans*h\n",
        "    else:\n",
        "      ans+=pre/2\n",
        "      for i in range(len(x)):\n",
        "        if i%2==1:\n",
        "          ans+=func(x[i])*h\n",
        "    if n!=1:\n",
        "      print(n,ans,abs(ans-pre))\n",
        "    if n==1:\n",
        "      pre=ans\n",
        "      n=n*2\n",
        "    elif abs(ans-pre)<epsilon:\n",
        "      return ans\n",
        "      break\n",
        "    else:\n",
        "      pre=ans\n",
        "      n=n*2\n",
        "def f_3(x):\n",
        "  return math.sin(math.sqrt(100*x))**2\n",
        "print(adaptive_trap(f_3,1e-6,0,1))"
      ],
      "metadata": {
        "colab": {
          "base_uri": "https://localhost:8080/"
        },
        "id": "PQDPmRd3rGlh",
        "outputId": "12373805-c99e-4877-9798-11e39e15dd5f"
      },
      "execution_count": null,
      "outputs": [
        {
          "output_type": "stream",
          "name": "stdout",
          "text": [
            "2 0.3252319078064746 0.1772524232598226\n",
            "4 0.5122828507233314 0.18705094291685676\n",
            "8 0.40299744847824825 0.1092854022450831\n",
            "16 0.430103369294747 0.027105920816498763\n",
            "32 0.44841466578746986 0.01831129649272284\n",
            "64 0.45391293121537585 0.005498265427905991\n",
            "128 0.4553485043728023 0.0014355731574264285\n",
            "256 0.45571126645324117 0.00036276208043889424\n",
            "512 0.45580219965166413 9.093319842295999e-05\n",
            "1024 0.45582494813241986 2.2748480755729883e-05\n",
            "2048 0.4558306362016452 5.6880692253513665e-06\n",
            "4096 0.4558320582782706 1.4220766254013917e-06\n",
            "8192 0.4558324138011359 3.5552286531403965e-07\n",
            "0.4558324138011359\n"
          ]
        }
      ]
    },
    {
      "cell_type": "markdown",
      "source": [
        "Q3b"
      ],
      "metadata": {
        "id": "I4g2aucU96gp"
      }
    },
    {
      "cell_type": "code",
      "source": [
        "def romberg(func,epsilon,low,up):\n",
        "  r=[]\n",
        "  i=0\n",
        "  while True:\n",
        "    r.append([trapezoid(func,2**i,low,up)])\n",
        "    for j in range(1,i+1):\n",
        "      pqr=((4**j)*r[i][j-1]-r[i-1][j-1])/(4**j-1)\n",
        "      r[i].append(pqr)\n",
        "    if i!=0:\n",
        "      error=abs(r[i][i]-r[i-1][i-1])\n",
        "      if error<epsilon:\n",
        "        return r\n",
        "        break\n",
        "    i+=1\n",
        "r=romberg(f_3,1e-6,0,1)\n",
        "for i in range(len(r)):\n",
        "  print(r[i])"
      ],
      "metadata": {
        "id": "lUHwW_IG-P3x",
        "colab": {
          "base_uri": "https://localhost:8080/"
        },
        "outputId": "f524f411-4c38-45e0-b697-8ed554c1d2c3"
      },
      "execution_count": null,
      "outputs": [
        {
          "output_type": "stream",
          "name": "stdout",
          "text": [
            "[0.147979484546652]\n",
            "[0.3252319078064746, 0.38431604889308213]\n",
            "[0.5122828507233315, 0.5746331650289505, 0.5873209727713417]\n",
            "[0.4029974484782483, 0.3665689810632206, 0.3526980354655053, 0.3489738618574762]\n",
            "[0.430103369294747, 0.4391386762335799, 0.4439766559116038, 0.44542552290281173, 0.44580376471083266]\n",
            "[0.44841466578746997, 0.4545184312850443, 0.45554374828847527, 0.455727352929378, 0.4557677522628155, 0.45577749223109704]\n",
            "[0.4539129312153759, 0.4557456863580112, 0.4558275033628757, 0.4558320074116757, 0.4558324178214102, 0.4558324810330999, 0.4558324944613788]\n",
            "[0.455348504372802, 0.45582702875861064, 0.45583245158531727, 0.45583253012853064, 0.4558325321784007, 0.4558325322901866, 0.4558325323027036, 0.4558325323050134]\n"
          ]
        }
      ]
    },
    {
      "cell_type": "markdown",
      "source": [
        "Q4a)\n"
      ],
      "metadata": {
        "id": "Cz-0n0gbdFRX"
      }
    },
    {
      "cell_type": "code",
      "source": [
        "def f_4(x):\n",
        "  return (x**4)*math.exp(x)/((math.exp(x)-1)**2)\n",
        "\"\"\"\n",
        "def legendre(n,x):\n",
        "  if n==0:\n",
        "    return 1\n",
        "  sol=[1,x]\n",
        "  for i in range(2,n+1):\n",
        "    sol.append(((2*i-1)*sol[i-1]*x-(i-1)*sol[i-2])/i)\n",
        "  return sol\n",
        "def legendre_diff(n,x):\n",
        "  kkk=legendre(n,x)\n",
        "  return n/(x**2-1)*(x*kkk[n-1]-kkk[n-2])\n",
        "\"\"\"\n",
        "def legendre_root_w(n):\n",
        "  x=[]\n",
        "  for i in range(n):\n",
        "    x.append(math.cos(math.pi*(i-0.25)/(n+0.5)))\n",
        "  x=np.array(x)\n",
        "  epsilon=1e-15\n",
        "  delta=1\n",
        "  while delta>epsilon:\n",
        "    p0=np.ones(n,float)\n",
        "    p1=np.copy(x)\n",
        "    for i in range(1,n):\n",
        "      p0,p1=p1,((2*i+1)*p1*x-p0*i)/(i+1)\n",
        "    dp=(n+1)*(p0-x*p1)/(1-x*x)\n",
        "    dx=p1/dp\n",
        "    x=x-dx\n",
        "    delta=max(abs(dx))\n",
        "  w=2*(n+1)*(n+1)/(n*n*(1-x*x)*dp*dp)\n",
        "  return x,w\n",
        "def gauss_quad(func,n,low,up):\n",
        "  x,w=legendre_root_w(n)\n",
        "  #print(x)\n",
        "  #print(w)\n",
        "  x=0.5*(up-low)*x+0.5*(up+low)\n",
        "  w=0.5*(up-low)*w\n",
        "  ans=0\n",
        "  for i in range(n):\n",
        "    ans+=func(x[i])*w[i]\n",
        "    #print(i,ans,x[i],w[i])\n",
        "  return ans\n",
        "def cv(T):\n",
        "  rho=6.022e28\n",
        "  V=1000/(100*100*100)\n",
        "  theta_d=428\n",
        "  k_b=1.380649e-23\n",
        "  c1=9*V*rho*k_b*pow(T/theta_d,3)\n",
        "  return c1*gauss_quad(f_4,50,0,theta_d/T)\n"
      ],
      "metadata": {
        "id": "L_7D9o1XdRnQ"
      },
      "execution_count": null,
      "outputs": []
    },
    {
      "cell_type": "markdown",
      "source": [
        "Q4b"
      ],
      "metadata": {
        "id": "2fm471AlSbfc"
      }
    },
    {
      "cell_type": "code",
      "source": [
        "\n",
        "x_4=np.linspace(5,500,500)\n",
        "y_4=[]\n",
        "for t in x_4:\n",
        "  y_4.append(cv(t))\n",
        "plt.plot(x_4,y_4)\n",
        "plt.title('heat capacity against temperature')\n",
        "plt.xlabel('T')\n",
        "plt.ylabel('heat capacity')\n"
      ],
      "metadata": {
        "colab": {
          "base_uri": "https://localhost:8080/",
          "height": 312
        },
        "id": "kLw_mIMbSc5H",
        "outputId": "e1064076-b1e7-406d-9ae7-8b326d93aa10"
      },
      "execution_count": null,
      "outputs": [
        {
          "output_type": "execute_result",
          "data": {
            "text/plain": [
              "Text(0, 0.5, 'heat capacity')"
            ]
          },
          "metadata": {},
          "execution_count": 5
        },
        {
          "output_type": "display_data",
          "data": {
            "text/plain": [
              "<Figure size 432x288 with 1 Axes>"
            ],
            "image/png": "[encoded data removed]"
          },
          "metadata": {
            "needs_background": "light"
          }
        }
      ]
    },
    {
      "cell_type": "markdown",
      "source": [
        "Q5a)<br>\n",
        "̇$E=\\frac{1}{2}\\times(\\frac{dx}{dt})^2+V,$ <br>\n",
        "$dt=\\sqrt{\\frac{1}{2}\\frac{m}{V(a)-V}}dx,$<br>\n",
        "$\\frac{T}{4}=\\int_{0}^{T/4}dt=\\int_{0}^{a}\\sqrt{\\frac{1}{2}\\frac{m}{V(a)-V}}dx,$<br>\n",
        "$T=\\int_{0}^{a}\\sqrt{\\frac{8m}{V(a)-V(x)}}dx$"
      ],
      "metadata": {
        "id": "mbBkv-ConUdX"
      }
    },
    {
      "cell_type": "code",
      "source": [
        "def cal_period(a):\n",
        "  m=1\n",
        "  def f_5(x):\n",
        "    if x!=a:\n",
        "      return 1/math.sqrt(a**4-x*x*x*x)\n",
        "    else:\n",
        "      return 0\n",
        "  return math.sqrt(8*m)*gauss_quad(f_5,20,0,a)\n",
        "x_5=np.linspace(0.1,2,100)\n",
        "y_5=[]\n",
        "for k in x_5:\n",
        "  y_5.append(cal_period(k))\n",
        "plt.plot(x_5,y_5)\n",
        "plt.title('period against amplitude')\n",
        "plt.xlabel('amplitude')\n",
        "plt.ylabel('period')"
      ],
      "metadata": {
        "id": "ddZe1F-EnWLW",
        "colab": {
          "base_uri": "https://localhost:8080/",
          "height": 312
        },
        "outputId": "01c76120-b972-4508-9ea4-e6bfbb00b703"
      },
      "execution_count": null,
      "outputs": [
        {
          "output_type": "execute_result",
          "data": {
            "text/plain": [
              "Text(0, 0.5, 'period')"
            ]
          },
          "metadata": {},
          "execution_count": 6
        },
        {
          "output_type": "display_data",
          "data": {
            "text/plain": [
              "<Figure size 432x288 with 1 Axes>"
            ],
            "image/png": "[encoded data removed]"
          },
          "metadata": {
            "needs_background": "light"
          }
        }
      ]
    },
    {
      "cell_type": "markdown",
      "source": [
        "Q5c) When the amplitude is larger, the total energy is larger. The speed is therefore larger, and it takes shorter time to complete a period."
      ],
      "metadata": {
        "id": "tJG-AEXphzSZ"
      }
    },
    {
      "cell_type": "markdown",
      "source": [
        "Q6a)"
      ],
      "metadata": {
        "id": "kXmdUlBeiRnc"
      }
    },
    {
      "cell_type": "code",
      "source": [
        "def H(n,x):\n",
        "  if n==0:\n",
        "    return 1\n",
        "  elif n==1:\n",
        "    return x\n",
        "  else:\n",
        "    sol=[1,2*x]\n",
        "    for k in range(1,n+2):\n",
        "      sol.append(2*x*sol[k]-(k)*2*sol[k-1])\n",
        "    return sol[n]\n",
        "def phi(n,x):\n",
        "  c1=math.exp(-x*x*0.5)/math.sqrt((2**n)*math.factorial(n)*math.sqrt(math.pi))\n",
        "  return c1*H(n,x)\n",
        "for n in range(4):\n",
        "  x_6=np.linspace(-4,4,100)\n",
        "  y_6=[]\n",
        "  for k in x_6:\n",
        "    y_6.append(phi(n,k))\n",
        "  plt.plot(x_6,y_6)\n",
        "plt.legend(['n=0','n=1','n=2','n=3'])\n",
        "plt.title('phi(n,x)')\n",
        "plt.xlabel('x')\n",
        "plt.ylabel('phi')"
      ],
      "metadata": {
        "colab": {
          "base_uri": "https://localhost:8080/",
          "height": 312
        },
        "id": "SZgvr2hLiSr4",
        "outputId": "77bf8e7c-8ef5-47e2-bc30-8866272b7872"
      },
      "execution_count": null,
      "outputs": [
        {
          "output_type": "execute_result",
          "data": {
            "text/plain": [
              "Text(0, 0.5, 'phi')"
            ]
          },
          "metadata": {},
          "execution_count": 8
        },
        {
          "output_type": "display_data",
          "data": {
            "text/plain": [
              "<Figure size 432x288 with 1 Axes>"
            ],
            "image/png": "[encoded data removed]"
          },
          "metadata": {
            "needs_background": "light"
          }
        }
      ]
    },
    {
      "cell_type": "markdown",
      "source": [
        "Q6b)"
      ],
      "metadata": {
        "id": "gUnC06amkcM2"
      }
    },
    {
      "cell_type": "code",
      "source": [
        "import time\n",
        "begin = time.time()\n",
        "x_6=np.linspace(-10,10,100)\n",
        "y_6=[]\n",
        "for k in x_6:\n",
        "  y_6.append(phi(30,k))\n",
        "plt.plot(x_6,y_6)\n",
        "end = time.time()\n",
        "print(begin-end)"
      ],
      "metadata": {
        "colab": {
          "base_uri": "https://localhost:8080/",
          "height": 282
        },
        "id": "ljKIAUIzkd7r",
        "outputId": "8eb24ae5-43d1-4913-bafc-52a98a1a939a"
      },
      "execution_count": null,
      "outputs": [
        {
          "output_type": "stream",
          "name": "stdout",
          "text": [
            "-0.036591529846191406\n"
          ]
        },
        {
          "output_type": "display_data",
          "data": {
            "text/plain": [
              "<Figure size 432x288 with 1 Axes>"
            ],
            "image/png": "[encoded data removed]"
          },
          "metadata": {
            "needs_background": "light"
          }
        }
      ]
    },
    {
      "cell_type": "markdown",
      "source": [
        "Q6c)"
      ],
      "metadata": {
        "id": "0chOCc6Bk9bd"
      }
    },
    {
      "cell_type": "code",
      "source": [
        "def cal_rms(n):\n",
        "  def f_6(x):\n",
        "    p=math.tan(x)\n",
        "    q=p*p*(phi(n,p)**2)/(math.cos(x)**2)\n",
        "    #print(q)\n",
        "    return q\n",
        "  ans=gauss_quad(f_6,100,-0.5*math.pi,0.5*math.pi)\n",
        "  return math.sqrt(ans)\n",
        "cal_rms(5)"
      ],
      "metadata": {
        "colab": {
          "base_uri": "https://localhost:8080/"
        },
        "id": "ptqjZfynk8UB",
        "outputId": "7b199f45-db49-44d1-961f-d174b77a4bdb"
      },
      "execution_count": null,
      "outputs": [
        {
          "output_type": "execute_result",
          "data": {
            "text/plain": [
              "2.3452078797796543"
            ]
          },
          "metadata": {},
          "execution_count": 37
        }
      ]
    },
    {
      "cell_type": "markdown",
      "source": [
        "Q7a)<br>\n",
        "$dF=\\frac{GM}{r^2}dm$<br>\n",
        "$M=1kg, dm=\\sigma da=\\sigma dxdy, r=(x^2+y^2+z^2)^{\\frac{1}{2}}$<br>\n",
        "The force is along z axis, we need to multiply $dF$ by $cos\\theta=\\frac{z}{(x^2+y^2+z^2)^{\\frac{1}{2}}}$ <br>\n",
        "Therefore,<br>\n",
        "$F_z=\\int dF cos\\theta=\\int \\int^{\\frac{L}{2}}_{-\\frac{L}{2}}G\\sigma z\\frac{dxdy}{(x^2+y^2+z^2)^{\\frac{3}{2}}}$"
      ],
      "metadata": {
        "id": "guJm5vHlDnKY"
      }
    },
    {
      "cell_type": "markdown",
      "source": [
        "Q7b) (please wait for some times before the program finish running)"
      ],
      "metadata": {
        "id": "fwkPaNh_EOnJ"
      }
    },
    {
      "cell_type": "code",
      "source": [
        "def cal_fz(z):\n",
        "  G=6.674e-11\n",
        "  sigma=10*1000/100\n",
        "  def f_7_x(x):\n",
        "    def f_7_y(y):\n",
        "      return (x*x+y*y+z*z)**(-1.5)\n",
        "    return gauss_quad(f_7_y,100,-5,5)\n",
        "  return G*sigma*z*gauss_quad(f_7_x,100,-5,5)\n",
        "z_7=np.linspace(0.01,10,100)\n",
        "fz=[]\n",
        "for k in z_7:\n",
        "  fz.append(cal_fz(k))\n",
        "plt.plot(z_7,fz)"
      ],
      "metadata": {
        "colab": {
          "base_uri": "https://localhost:8080/",
          "height": 293
        },
        "id": "dCo1TCOKDq2E",
        "outputId": "a0677c5d-5e4c-4bbd-8341-649a46de14ae"
      },
      "execution_count": null,
      "outputs": [
        {
          "output_type": "execute_result",
          "data": {
            "text/plain": [
              "[<matplotlib.lines.Line2D at 0x7f8e019bb7d0>]"
            ]
          },
          "metadata": {},
          "execution_count": 18
        },
        {
          "output_type": "display_data",
          "data": {
            "text/plain": [
              "<Figure size 432x288 with 1 Axes>"
            ],
            "image/png": "[encoded data removed]"
          },
          "metadata": {
            "needs_background": "light"
          }
        }
      ]
    },
    {
      "cell_type": "markdown",
      "source": [
        "Q7c) When z→0, the program would return small values because F(z)=z×(other term). To eliminate this, we could Taylor expand F(z) and use the first few terms of the series as F(z) when z is small."
      ],
      "metadata": {
        "id": "oEN87MA5HWQT"
      }
    }
  ]
}